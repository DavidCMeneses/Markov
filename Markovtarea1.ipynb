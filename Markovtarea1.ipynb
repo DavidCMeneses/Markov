{
  "nbformat": 4,
  "nbformat_minor": 0,
  "metadata": {
    "colab": {
      "provenance": []
    },
    "kernelspec": {
      "name": "python3",
      "display_name": "Python 3"
    },
    "language_info": {
      "name": "python"
    }
  },
  "cells": [
    {
      "cell_type": "markdown",
      "source": [
        "Integrantes:\n",
        "\n",
        "* Juan Carlos Sánchez\n",
        "* Nicolás Eduardo Pardo\n",
        "* David Esteban Casallas\n"
      ],
      "metadata": {
        "id": "tKxjO7wpSXAO"
      }
    },
    {
      "cell_type": "markdown",
      "source": [
        "### Imports"
      ],
      "metadata": {
        "id": "yDMRt81DqF2C"
      }
    },
    {
      "cell_type": "code",
      "source": [
        "import random\n",
        "import copy\n",
        "from numpy import random as rand\n",
        "import numpy as np\n",
        "import matplotlib.pyplot as plt\n",
        "import matplotlib.animation as animation\n",
        "from matplotlib import rc\n",
        "import time"
      ],
      "metadata": {
        "id": "M0op5guXYRNi"
      },
      "execution_count": 19,
      "outputs": []
    },
    {
      "cell_type": "markdown",
      "source": [
        "# Algoritmo 1 Gibbs Sampler Hard-Core"
      ],
      "metadata": {
        "id": "k9L3MQWUXwEA"
      }
    },
    {
      "cell_type": "markdown",
      "source": [
        "### Generación de estado inicial\n"
      ],
      "metadata": {
        "id": "3NntJUaKpO4_"
      }
    },
    {
      "cell_type": "markdown",
      "source": [
        "Para comenzar necesitamos un estado inicial, en este caso lo generamos aleatoriamente tomando un número expresado en k^2 bits que luego transformaremos en matríz."
      ],
      "metadata": {
        "id": "ZKV7tQPNSmQF"
      }
    },
    {
      "cell_type": "code",
      "execution_count": 20,
      "metadata": {
        "id": "eYKwpS-MW4n3"
      },
      "outputs": [],
      "source": [
        "def randomkgen(k):\n",
        "  num = random.randint(0,2**(k**2)-1) #Generación del número de tamaño n^2\n",
        "  res = [int(i) for i in bin(num)[2:]] #Se reescribe en bits\n",
        "\n",
        "  if (len(res) < k**2 ): #Rellenamos de 0 por si el número es más pequeño\n",
        "    while(len(res) < k**2):\n",
        "      res.append(0)\n",
        "\n",
        "  res = np.reshape(res,(k,k)) #Se convierte en matriz de k^2\n",
        "  return res"
      ]
    },
    {
      "cell_type": "markdown",
      "source": [
        "### Función toss_coin y checknei"
      ],
      "metadata": {
        "id": "l-gafvu1uWIV"
      }
    },
    {
      "cell_type": "markdown",
      "source": [
        "Luego creamos las funciones de arrojar la moneda y otra para comprobar que los vecinos de un cierto vértice no están pintados."
      ],
      "metadata": {
        "id": "bHMEUNw8TWZp"
      }
    },
    {
      "cell_type": "code",
      "source": [
        "def toss_coin():\n",
        "  return bool(random.randrange(2)) #True o False"
      ],
      "metadata": {
        "id": "L4CHk8xTu2qk"
      },
      "execution_count": 21,
      "outputs": []
    },
    {
      "cell_type": "code",
      "source": [
        "def checknei(state,x,y):\n",
        "  nei = [] #Acá guardamos el color de los vecinos\n",
        "  k = len(state)\n",
        "\n",
        "  if(x != 0): #Hay que tener cuidado al checar los bordes\n",
        "    nei.append(state[x-1,y])\n",
        "  if(x != k-1):\n",
        "    nei.append(state[x+1,y])\n",
        "  if(y != 0):\n",
        "    nei.append(state[x,y-1])\n",
        "  if(y != k-1):\n",
        "    nei.append(state[x,y+1])\n",
        "\n",
        "  if(1 in nei): #Si algún vecino está pintado retorna False\n",
        "    return False\n",
        "  else:\n",
        "    return True"
      ],
      "metadata": {
        "id": "jGIVZ4xOvCIr"
      },
      "execution_count": 22,
      "outputs": []
    },
    {
      "cell_type": "markdown",
      "source": [
        "### Simulación y verificador de Hard-Core"
      ],
      "metadata": {
        "id": "9o0rBpUp02P_"
      }
    },
    {
      "cell_type": "markdown",
      "source": [
        "Con todas las funciones creadas ya podemos colocarlas en nuestro algoritmo dentro de un bucle donde le especificamos cuantas veces debe iterar."
      ],
      "metadata": {
        "id": "L6aPxnRDTwxW"
      }
    },
    {
      "cell_type": "code",
      "source": [
        "def GibbsHC(n,k):\n",
        "  res = randomkgen(k) #Generar el estado inicial\n",
        "\n",
        "  for i in range(n):\n",
        "    x,y = random.randint(0,k-1), random.randint(0,k-1) #Tomar vertice aleatoriamente\n",
        "\n",
        "    if(toss_coin()): #Tirar la moneda\n",
        "      if(checknei(res,x,y)): #Checar los vecinos\n",
        "        res[x,y] = 1 #Si los vecinos no están pintados\n",
        "      else:\n",
        "        res[x,y] = 0 #Si hay almenos un vecino pintado\n",
        "    else:\n",
        "      res[x,y] = 0 #Si la moneda no cae en cara\n",
        "\n",
        "  return res"
      ],
      "metadata": {
        "id": "3crx3_sP1Zng"
      },
      "execution_count": 23,
      "outputs": []
    },
    {
      "cell_type": "code",
      "source": [
        "def checkHC(state):\n",
        "  k = len(state)\n",
        "  for i in range(k): #Bucle para revisar cada vertice\n",
        "    for j in range(k):\n",
        "\n",
        "      if(not checknei(state,i,j)): #Checar vecinos del vertice y si el vertice está pintado\n",
        "        if(state[i,j] == 1):\n",
        "          return False\n",
        "\n",
        "  return True"
      ],
      "metadata": {
        "id": "MGcw5mjn7TQd"
      },
      "execution_count": 24,
      "outputs": []
    },
    {
      "cell_type": "markdown",
      "source": [
        "### Graficar Hard Core"
      ],
      "metadata": {
        "id": "ira_xkOJBl5K"
      }
    },
    {
      "cell_type": "markdown",
      "source": [
        "Ya que tenemos una representación matricial podemos utilizar matplitlib para gráficar los estados."
      ],
      "metadata": {
        "id": "1Ut0eNKqT9tY"
      }
    },
    {
      "cell_type": "code",
      "source": [
        "def graphHC(state):\n",
        "  k = len(state)\n",
        "  row_labels = range(k)\n",
        "  col_labels = range(k)\n",
        "\n",
        "  plt.matshow(-1*state, cmap=plt.cm.gray)\n",
        "\n",
        "  plt.xticks(range(k), col_labels)\n",
        "  plt.yticks(range(k), row_labels)\n",
        "  plt.show()"
      ],
      "metadata": {
        "id": "bbaDvZd9_Drw"
      },
      "execution_count": 25,
      "outputs": []
    },
    {
      "cell_type": "markdown",
      "source": [
        "Una pequeña prueba"
      ],
      "metadata": {
        "id": "mjhl01p1-WkS"
      }
    },
    {
      "cell_type": "code",
      "source": [
        "k = 5 #Puede modificarse el tamaño de k\n",
        "\n",
        "f_HC = randomkgen(k) #Un estado aleatorio de una matriz k^2\n",
        "t_HC = GibbsHC(10000, k) #El estado final, un estado HC aleatorio de tamaño k^2\n",
        "\n",
        "graphHC(f_HC)\n",
        "print(\"El primero es: \", checkHC(f_HC))\n",
        "\n",
        "graphHC(t_HC)\n",
        "print(\"El segundo es: \", checkHC(t_HC))"
      ],
      "metadata": {
        "colab": {
          "base_uri": "https://localhost:8080/",
          "height": 892
        },
        "id": "46vrbuGd8Yl8",
        "outputId": "a7b85380-6e98-40ff-9a50-1c8d74a49225"
      },
      "execution_count": 26,
      "outputs": [
        {
          "output_type": "display_data",
          "data": {
            "text/plain": [
              "<Figure size 480x480 with 1 Axes>"
            ],
            "image/png": "[encoded data removed]"
          },
          "metadata": {}
        },
        {
          "output_type": "stream",
          "name": "stdout",
          "text": [
            "El primero es:  False\n"
          ]
        },
        {
          "output_type": "display_data",
          "data": {
            "text/plain": [
              "<Figure size 480x480 with 1 Axes>"
            ],
            "image/png": "[encoded data removed]"
          },
          "metadata": {}
        },
        {
          "output_type": "stream",
          "name": "stdout",
          "text": [
            "El segundo es:  True\n"
          ]
        }
      ]
    },
    {
      "cell_type": "markdown",
      "source": [
        "### Animación"
      ],
      "metadata": {
        "id": "SQum93BGVVPA"
      }
    },
    {
      "cell_type": "markdown",
      "source": [
        "Finalmente vamos a visualizar entonces una muestra y algunos pasos de la trayectoría de la cadena de markov que condujo a la muestra."
      ],
      "metadata": {
        "id": "OwrFJF7mx0UB"
      }
    },
    {
      "cell_type": "code",
      "source": [
        "rc('animation', html='html5') #Se necesita para ejecutar la animación en el notebook"
      ],
      "metadata": {
        "id": "WO_Lw6zJcppH"
      },
      "execution_count": 27,
      "outputs": []
    },
    {
      "cell_type": "code",
      "source": [
        "k=5 #Tamaño ajustable del tamaño de la matríz\n",
        "res = randomkgen(k) #Generar el estado inicial\n",
        "temporal = [] #Acá guardamos los frames de la animación\n",
        "\n",
        "for i in range(10000):\n",
        "  x,y = random.randint(0,k-1), random.randint(0,k-1) #Tomar vertice aleatoriamente\n",
        "\n",
        "  if(toss_coin()): #Tirar la moneda\n",
        "    if(checknei(res,x,y)): #Checar los vecinos\n",
        "      res[x,y] = 1 #Si los vecinos no están pintados\n",
        "    else:\n",
        "      res[x,y] = 0 #Si hay almenos un vecino pintado\n",
        "  else:\n",
        "    res[x,y] = 0 #Si la moneda no cae en cara\n",
        "  if i%500 == 0:\n",
        "    temporal.append(copy.deepcopy(res)) #Guardamos frames solo cada 500, pues 10k imagenes es mucho\n",
        "\n",
        "fig, ax = plt.subplots()\n",
        "frames = []\n",
        "\n",
        "for i in range(len(temporal)):\n",
        "\n",
        "    img1 = ax.imshow(-1*temporal[i], cmap='gray', animated=True) #Pasamos de matríz a imagen\n",
        "    frames.append([img1])\n",
        "\n",
        "ani = animation.ArtistAnimation(fig, frames, interval=500, blit=True, repeat_delay=1000)\n",
        "ani.save('movie_example.mp4')\n"
      ],
      "metadata": {
        "colab": {
          "base_uri": "https://localhost:8080/",
          "height": 430
        },
        "id": "2iLXlEqgdeRs",
        "outputId": "807d393a-9e9b-4cd1-a34b-3b943d19d8e5"
      },
      "execution_count": 28,
      "outputs": [
        {
          "output_type": "display_data",
          "data": {
            "text/plain": [
              "<Figure size 640x480 with 1 Axes>"
            ],
            "image/png": "[encoded data removed]"
          },
          "metadata": {}
        }
      ]
    },
    {
      "cell_type": "code",
      "source": [
        "ani #Ejecutamos la animación"
      ],
      "metadata": {
        "colab": {
          "base_uri": "https://localhost:8080/",
          "height": 501
        },
        "id": "SPVVS1H9tOq_",
        "outputId": "8dd83c4d-1dac-4b78-d2a1-05cca09a9e35"
      },
      "execution_count": 29,
      "outputs": [
        {
          "output_type": "execute_result",
          "data": {
            "text/plain": [
              "<matplotlib.animation.ArtistAnimation at 0x7d0058d0f790>"
            ],
            "text/html": [
              "<video width=\"640\" height=\"480\" controls autoplay loop>\n",
              "  <source type=\"video/mp4\" src=\"data:video/mp4;base64,AAAAIGZ0eXBNNFYgAAACAE00ViBpc29taXNvMmF2YzEAAAAIZnJlZQAAKrdtZGF0AAACrQYF//+p\n",
              "3EXpvebZSLeWLNgg2SPu73gyNjQgLSBjb3JlIDE2MyByMzA2MCA1ZGI2YWE2IC0gSC4yNjQvTVBF\n",
              "Ry00IEFWQyBjb2RlYyAtIENvcHlsZWZ0IDIwMDMtMjAyMSAtIGh0dHA6Ly93d3cudmlkZW9sYW4u\n",
              "b3JnL3gyNjQuaHRtbCAtIG9wdGlvbnM6IGNhYmFjPTEgcmVmPTMgZGVibG9jaz0xOjA6MCBhbmFs\n",
              "eXNlPTB4MzoweDExMyBtZT1oZXggc3VibWU9NyBwc3k9MSBwc3lfcmQ9MS4wMDowLjAwIG1peGVk\n",
              "X3JlZj0xIG1lX3JhbmdlPTE2IGNocm9tYV9tZT0xIHRyZWxsaXM9MSA4eDhkY3Q9MSBjcW09MCBk\n",
              "ZWFkem9uZT0yMSwxMSBmYXN0X3Bza2lwPTEgY2hyb21hX3FwX29mZnNldD0tMiB0aHJlYWRzPTMg\n",
              "bG9va2FoZWFkX3RocmVhZHM9MSBzbGljZWRfdGhyZWFkcz0wIG5yPTAgZGVjaW1hdGU9MSBpbnRl\n",
              "cmxhY2VkPTAgYmx1cmF5X2NvbXBhdD0wIGNvbnN0cmFpbmVkX2ludHJhPTAgYmZyYW1lcz0zIGJf\n",
              "cHlyYW1pZD0yIGJfYWRhcHQ9MSBiX2JpYXM9MCBkaXJlY3Q9MSB3ZWlnaHRiPTEgb3Blbl9nb3A9\n",
              "MCB3ZWlnaHRwPTIga2V5aW50PTI1MCBrZXlpbnRfbWluPTIgc2NlbmVjdXQ9NDAgaW50cmFfcmVm\n",
              "cmVzaD0wIHJjX2xvb2thaGVhZD00MCByYz1jcmYgbWJ0cmVlPTEgY3JmPTIzLjAgcWNvbXA9MC42\n",
              "MCBxcG1pbj0wIHFwbWF4PTY5IHFwc3RlcD00IGlwX3JhdGlvPTEuNDAgYXE9MToxLjAwAIAAAAdq\n",
              "ZYiEABX//vfJ78Cm61tbtb+Tz0j8LLc+wio/blsTtOoAAAMAAAMAAAMAevBYIRD8yKKuvAAAAwMo\n",
              "AF5BB/wpjj4AGfWyrF4hLOkJTGnsKUz7hwftmmMOeSfzqq7xsFnbcvbEJ72D/9P/EHh463KrhoNG\n",
              "yzqhA5KPSBNBE6Srn1z4xuZCpcCI2vkSWg64d1loOsRwbYOXiuewlKvM/7ykeB5rTEfbkPvuCWPk\n",
              "5t/5hYx1pLDR0mGsdPD0oB/p+vUbLQ1Pzr8/gnBk7TaVXIfQMlEAlhG8DOtVVdRtCrYFmr9stPR3\n",
              "rnAwlA8pjNUcuKhexMRzeat0OnvHLTsW0mWR8pk6BbFmBuvdGDgXFx/rwOp7OlY7LjK5sB3cLmdu\n",
              "Q6/uQjjmVWHUIrtiTqwZRrNd48we+IzQhOpPsWWMkI80FvHbqC67ov7wXJCE9B7Tf6OuEV3RcFmA\n",
              "n9ujBCn7es+JQbuSMhYfIIbUfbXQGxgoTSEObzo4Tv/H/6MLSFkc7MiXMZhYRad4aj8qhAQnk4Jf\n",
              "wawl/jHU8smhgg/qFBobI+bk4fTHM28CbN+iqwwMrFzYYUEZrBh+qWBfKo9Wr88YHa0tTK37kowP\n",
              "veL3AmmFoh9XF/KqCBr3dwejlnQ5svNrIiGnYeA31kY4EJi1aEI5opd9DiiEMrVSITsLQh2wtPxG\n",
              "rwjdfEYDlXACl4Bsm70aWrN4iKS1IUxnB+rT2Ou46ZjMFXlFl6eewHGbgfesT3Rnar+tRn7vO9vG\n",
              "ohQygC++DT///tuJr+UkvWBsHk6fEQ/wZv97VUoCnABm2SW41DYKXmVAllSvQfhyeTKfZOlEt/wI\n",
              "WiehVOIC7mg8m/SyqRcFlRW5vnoOEaHtCzSF9YtO41IWRj466gfLb2uDEQyrfRE5cLBT4drYKq1R\n",
              "z4www0xBjlbZjVBVm44xZ4aPyzc2RnO+ncUxfzts+htWJGmEE/Da4Xtc+RSbjzH5UzK8jtU3pQuc\n",
              "pRBvCxYAAAMAD5WhJJHpycXzxwIPm8SK8e472rX/cs1FfK1g4Vd8jjxoAIS5dd0NKFgE25dPRrZa\n",
              "8NwrmPEwFkDidgyIlGZ8SAOHUjC2bsR0R2a3SXvhsbdlIf5smxVKHRWJ6OTipzNEIDpox1Q7A+79\n",
              "s04eatnxj5bvuHTTuOWRG57Jx32GyUv/Ypuv6YPTQI9oTuOdyahsKcWdXQ12/FDtxMmSRdW5FZIQ\n",
              "8aY1Cywa5Pxory1optzBe58vSlq56ZyqbTs/UmCTi7VKBsqR8HwHnzmJlGjxYZj97IxxjHho7P+5\n",
              "gQsq3Tc+WtYgR1MfiyZOy+HywIuoYZj9UO4mYIBGez/LluH4xUFZCCUcuiJ5rWXQTI1fRddrphvQ\n",
              "AiM+eXWRdF6CMImRN5sQDxX+n5FG62rzJ5xYY5O+C9ytJYkA992fCYnPWe0Fz+5Sf9asIUVQidRD\n",
              "ak5Mf9pihqxJxM4Wheper8QJR6GqblARQRJwzrhwVF01sb81zBiw1tF8CRiqDmRR8pMqvgKYMtxV\n",
              "cU2o009XVXV43GEpOsZCPgQ1Af7Erq4SYQZgAAyRXy+53W97v9aS5AfSccXAAD7gV7/lWAkwh3sv\n",
              "vusKz9217lscOoeUs3RSE4jGvxaEtOQmOhvJtQqDrnh7eK6WioZGYAb2noLinS/+9O3FY3Ql1F9B\n",
              "98+sv/6dmF5RxhXS+XotcZrKPAz2Z6lJq4nw7IjX6+LIqRcyEmsn77BSjSMsPBFEvlmxkkax8HRN\n",
              "FyK/F3ENDuQ5c9NgMh0dxmKtusDC/KGkKTXNHp0kru7CAAADAhFnNjmveaT/r1/VBdwprdTuMT24\n",
              "3BlLBqQLdj0cBfNEoaQUMLYX/uVNepPH/zsVtePPE8zq3B84c9gIN7dqySe2y1Fb7oCgmE7Cv+bR\n",
              "ej7Gccb6Hr3tQmXkVD4LSWQW42V3q/+LgwI49CHG0gr5n+iroKiV3x2miF/fyYZYgVDqnpNFgUkq\n",
              "TSlXR2XEjj8/ofo3TZjIo0Y5ZvlhMr2cf1igNQ+LzJG07r8lhxQqN67fPxZdt+pSCfReZ5ZPGKWz\n",
              "iftUCHQu4s5SXT2Ecb7AEqNkOakQCc5j4k7Tb9x/iopwfKcKZSSgo2vW+x++1G3cFkM3iHi5h9HI\n",
              "Lr1zlCC/3v/3YaDuST1dvizBCfGQtgJssZmHXUdosJwrrIIGIbH/0wLl0PWtq4ilONPAWWb3MikJ\n",
              "jehVhzp1DiC8zYQWKdYSl5hUae5/AdUOT6E1sfF+5UZjuyeSYmGhgUzUf8dt50w+c9OqASMZxMNb\n",
              "AEOKeP7Bmap0b47S3da0LZKYNLb36aX9pTBQIhfbg/Z3zFWEN0S0oQ1hl40Qm09L+P2ocIOC6cSZ\n",
              "K8gd/I7iB+SmN8NNmLt56vNN7912aFanfRbeWsz6gqwshsAzGYKxVJ70l9brfkrfqpcYJlZV7cNT\n",
              "WfgiX2K0cdtjelD2G3snVV+2tgwBby+pBaMeFXh2w2JIpSN16E7iV89paO5YmMEGaf9iSupz4/U1\n",
              "Fc0VBOGqFAAAmDXQ3nQABcUAAANrQZohbEFf/talUACU9B/0MhJ/gADNbdf/BUKYESYZV410ICVP\n",
              "SAjkc18IC2LJoy8sh34RRzI2DRj4qCiLs6yvgE5u3XviD6D3zqThwP4hEh7EhkhyqyGbt8OxvFrj\n",
              "3/cilgd00vSz8IJGgdxLYEC5HIbBwenlDuDxNdp4shAABThNoAAAAwLmBOABuY6TIV7rE4Kebz4C\n",
              "jdI0zoRB3PBIfafgmsQdA57T3/JfWYzCWN8Qi1Yf12uPyX+tjjAGlOuI24WIJFlRPq+ySabb6l30\n",
              "AFXngylEB/EMITzS641SyK1V6BSZOzKHN0xe7btbd7B3XFnDbthrR74cs6SHHBP1qIfL/y19XgFO\n",
              "of+r7N8Xm1fU6KymvoPcVDMxeKs5BI385bRgb8ejWjEhn1dR66wT5xaN2tqpxphm8pZDX8GlCji7\n",
              "UN7ylCQr0Lgojv2Xb920AEQlSckkeoqTvo4TF/qWk6nNE9n3Ly0AJQpBDwnl9pz4YXYuKPsSL+xf\n",
              "xYQv3fZ1jitNa+WYnBWMYleyCMUTM3w4U0CS5FTohhl08idYZBYA+cSG0L+tbekJJ4kOfp8NIiyl\n",
              "kTIgvwMdUKFhitVGTCmMF3MPjNDawHfcRn1dyJ8Bbob7zFt01QQBAUwuCtuqxXxWJVZmo0KsDCkp\n",
              "90O68YCA/7SvLfCqx9nQ71u7f1Ssf1jMXINfI0MjdahlaVfDjyyuZppR796qs8HQW0hrnmKELjZV\n",
              "/M83NIZbBmy0XnvREs3iRPV30aK9CEZkLDBfCjD6m7uKmhZYM9KUqCKXhXWLtB0+OYJsO7uPLr9/\n",
              "L+pmusTlpjlGP3aq7Ri0NUi1iZ46Qb6GAfFRrjoq/VtOlzvHkPULl1RAq+Cuy3iSD+i/zIncrv80\n",
              "6WULTu6aBErSXTkx07m8mPDcsT0hxiXsFsWenlSeFCh+IyZTZdgu2L9kinNh3WCNqB0gc6AYpl4o\n",
              "yoHxZSxSHtfFB7juM4rfbGBVS6hBKZ8B+NQqjEPKe3rnPiRribimvPZngiMmx2JfK3qkx6g3o3Cf\n",
              "+Rzh5BmU/6+fWY6wrza8HoMjbo0f5iQhLzriDDNglJjOZhNaEE88mSxNvoFfeXvxc1pFapSh07C8\n",
              "L5PsK+x7uz9PlHDyBglj03Jeuv9phL44Svl3oG2WzB5+YHtdyQqgLKAAAAErQZpCPCGTKYQV//7W\n",
              "pVAAlCuRdjVdzR4f6eKAU8iAChHzvWusc2h1ZigiqZ8MAwLct+JJxuddt27s+CwLLlK4SGefILp2\n",
              "440aoDeujKCcqq0hTj+uANw4DfDEhKjtslZhF+fVt3Ha/pS1qxJ/OdokMA/n/14tYKwH5+fsvndg\n",
              "qLbTqd87rPI9EPJtrEj1g9KGM8NMuaD41iaZ8uyaC9ISUTDL6Jy/s77LMS1n37rWGq+ZM/Qr/hpi\n",
              "bI+yM0U6ASwHnZcweLPs6vf2QDr5/EjhI08vAD2C7FLyZpmRyRPpSjLhQewnMXX1rdzFiNhT5/vV\n",
              "/giUEwzZEZUUGnCLtV+xbiCZqfaG5XH05UudOxrtT8RMINlwHB9HdnNDDc3x9KbeOyvuy+1OWRqZ\n",
              "8M0AAAH/QZpjSeEPJlMCCv/+1qVQAJQrkXY1Xcu9LLS12jgmx1jFUqAC1GEH+oI0fJG36epvw8mn\n",
              "IDnEzJ4JMc5vo3yjwbSNfmNHAwSqJnSEsjpyuMtKvTlnltQQevfOvotKC/k3yUeLOCuzyVrckUQC\n",
              "ukgYkyzcyZGCTLSmqHW5M9W4gwYVSPygOwLYaj83j6NOa5/HmWQ+cpzgzJAF5NxaBqpJU2l5obQE\n",
              "aI2lbpIzT8VqQwYFhPaqC2sMXWukI2xjrj3oEkOogvsUJvxOHJ3035EEtfr2MzQcW/uHFeTRZ3iF\n",
              "8ecWMQu3g6/iZIOCnQJbhEY7YfSdQJthmQSxQG8RBvcvk5f1LSpIvE+/24HyeoWOc3LkI2wUl9JM\n",
              "U1SNzlYTGfq2vnySsHL9Ffo49T1DtAZ7EnnTlvrSkbypTVOZcBlC2mBCrUR4fPQu2Ux4po5U66dT\n",
              "df1V3Vwf7avUNKKJxxxs5hNZ1hOUxNW+I6hYdHAfZoHtE1+YpONE4EZ9Qslr0HAmL9TX1b4Oeh7f\n",
              "OALzz6fhRYToaSifOIbPkseJv34/nXGIds+BjHAXygZJd8h8ytLoWpme2nQ815KZzWUGoMS6hJC0\n",
              "CWDRga2wfYzdnka5wCBHXlAOOlXZaIVYmwAWUZwZyGhxZ6jctFs92Jdk4D9hfOPdxOMKVOEgm26z\n",
              "1h15gAAAAtJBmoRJ4Q8mUwIK//7WpVAAlCu/tQAXQP9naCB5vegdQjJ0XPc4c1lc+w0ykMoN+Kbc\n",
              "Le4SfXScVfUPyY1RgONZNst/UTeMdm4vH1kYBNgDBHFLkYq/+s2OmT//rriCGiCthMmfEdaPjUUV\n",
              "L5Ifvq+CLgxhMzvNKxwe9hoHGuy9oKQJbSmp9I0+jCLc2PO5KBZbzbOuRt4yMWUvQ7Rakek80KVe\n",
              "a0Ma0r/9wJqnlCy4gep3pfvQ0J2ne0Qy3XRO5hXOEoIy1WuJnhE5vEjF/8tNZoiAkpQPLz8MiJBq\n",
              "YIpgeHtMA1qhee+u6PGpD10IC4zO2OOJjUuiVRGGTJwqcmXWrCiS06dtHeZdBAlIznfNe5VARiPv\n",
              "zDmW3sI0/3LWFpQ99smOXrPRV6EqoHsiR+qx5IARU3k6KfE9IOjj+y3ZeKheFJpGk7GH6w/4SZit\n",
              "4POKJnTqO7XWlql0FSNLcppwDMV08x1NsGScsHWlCE2QEvFDQcMNhATLGr+fjDwuw5MZxY0gNCVJ\n",
              "6ur++sMO28GmnqNiiOqOUFdmw139EONw2nSza0qQABGd8qOGA9W7Dmf9FG34hj2CgIBE6YmF9iEu\n",
              "HG8ybt4ZEtFkFoN01zeNsjg12wRK9bxbXcgthZz68rZusqjCIozXHsJF0nre5KWcmk6pM3ugC+s9\n",
              "JJtwHkhK0reRlhmb+gtkJE8NYDy7mEbxMai6xRS37v4fo+asHYrUvQPc9HybMHKRryQVpRBwE/Xs\n",
              "zBIbK3zIx1Y50QhF/mLL8v/SSzILcHZBBD3lh2KxcIGxM0ZFt+9XSCBwucvrYu1NuUpu+9v9Z1dV\n",
              "odta5fohi/tzvs4HKVUOZHfVKEMSb4F2EmSYVEuv5otFe+qm4Oew09n46ZW12/UmRqWucYszMdEI\n",
              "2sBGCEHt/TKfEIzGH2quirn1yE0yKX4s7PnVVvtaYUmtDNXWcnMO8eVozjYL6QAAAfNBmqVJ4Q8m\n",
              "UwIK//7WpVAAgPg8oC65l9OFyuB0/x2sF8i4eDvtUU02IAfG82pOgREIJY94HvMHwGK8g/AZ9HjN\n",
              "gopV66kusvKgyvXxBs3MAqiyrjneGPVnrolH/3Ky5QZBSVDEKnpLqew+oehMd/KmbjTySV4JIfOO\n",
              "ORaHUabcxin5+/QEAXBmPQC3O9RH26Ufatr4Qen1pUnMH/6YyAfP5+Rec7TYGp8d768uZmracgBP\n",
              "Lv++HhFpHvv6YUOms8vpOZKdmzbc5W/yzxzU1HUiXpX7vK89vv+Ia+d6Q6EbQ1F/4Lvo/0VgLPSO\n",
              "wSJY5S0jbZILm0XQ9xX/giyn6HTJVqgRSHVrimL9nWmV/XtoIz+9+P5FzvHfCGihwFlRGn2ysKj4\n",
              "Ic8MR3QU/gZzNF8wYWtyNujXsrCKzTXynimeal84/8h021yqZ/WoJRAYhkImzwE4c2wqNm3OTi6d\n",
              "98+iE0mGsw6b/ZwP9OZZ1cUh/7Vstgz7Cc77T+qkMWOmx4VI997FwnqrgoJhw0FEj0GEsG0S8ryO\n",
              "0j9GJHlWAvdho5zCkjOiADWXRuMgMqMhRr3yNN2r7ImkZ3SjxWvsn+Y9MWk3vCpAAda6Nq29Z9iz\n",
              "K1cynz7HNjSu1x6E2BtH6InO+zFUOHluDSRhzwtHhmi8Q0MfAAABGEGaxknhDyZTAgr//talUAB0\n",
              "lkSTyA+ccEH/yPr2sVQC56ekejF3KBrjpprIOMEhcAACjgAAAwAN4AK3wF8L/7Tbrl4GbQ+X65QA\n",
              "D3YbbTt777aMUPR9ff39qzjpi420ElRrCX3Za5zeHpjGrmFpSJW1dbrUg8zGDecHhqgMl0XAPZq3\n",
              "RMn0Bw+0bcnKb/EC/+mR2+6Kha5/2NcOsZAdnzbIcze4cRALV2erQntg7YBWsBYwNs6DT/5QpHnF\n",
              "7Hp7OrrmA5pVVfncU4KZiz1j9nhhNrbQIIJbmxGcj8OosHBqASHSgJR96PreqC+xrU5TOJ1rEIU7\n",
              "q75t3DngJ26tBimWVkO2Rh9JfwToI3lz7BtiPHfXekis3oEAAAGeQZrnSeEPJlMCCv/+1qVQAJT0\n",
              "H/Q/vD+IAWRGD/8FmjayoRIoLK5KYpUF/wsSmnCPGmrvgn5NLTrFVbW1LIwymOTSQKE9LuLHRiCL\n",
              "tVdxmXcxcW3NMFxyh3QTl4Vd9wizNvy8Swt6FE9g1ZiGBP4VChOibe5+KCsWh6P7PobVjGj2uJhA\n",
              "XbwXfyjT/YbgYSXxxSDNc4VrF+qTXJpEdv2YCWClg0KTG9WZa5xwskqpsJx/S6HN1JmT5jysLmRa\n",
              "NbkD/0jOECKA7occMmSV+iWGJFMQU0428i+nnB1o0d6JyzjwXZL8ZnOU7WE/+K/Nqf5L2MxdkmU3\n",
              "hOib5jo3EltI0ikejrx0n9Zgvt7UIiAFnDQaMnU4R7YkyzlFW1FvnA3tNuMlxsfJdLJmDDAtn6EY\n",
              "spiDhtTJD5eM0obzocArmUyNgLoeJ/LRrGHYDuCIvI24SkR/nqrw/UWuAYWa1KmVaOKIaSk7u5/N\n",
              "pqB4gYh4LY7ZQZ7djtbpkRQSONk9OC4To4nna1fZkuh55dt3iJD/4n1JUpnisg6RdKLS7YjzAAAB\n",
              "DEGbCEnhDyZTAgr//talUACE/kV8MiM44JsevcSOzkoDew9HyjlOO4cAFpAAAjAAIGC3lZHKN7iw\n",
              "SPeS9PbgCB7xOdH/xl5wQAWq3g77cChECporqzYLmgRClDcGMQMOQByU3e0JtnXe8siMPeUGx9IO\n",
              "CBPbs4cVquaB8Dq5HboNGy03NiWnLlbpnfeZI0eR0/2r8XSZxS5ltt7B2357Krq54SzO1yHzhGgS\n",
              "gsr/0exqvhA6Kc3mo9ZCwpryzXoXhlQR87yIPGTVYVjyewNOIAJXqXCc904IHSFwQNbPkLQYUedS\n",
              "0nX8DZw6vpkJ70eNeVofFWpgSvRVlTXio8xBC/idtl6CnGk2Y8EpEAwAAAFcQZspSeEPJlMCCv/+\n",
              "1qVQAIQrkXY1Xcu8TLH6svByx/aEGbGsk/kWNGDlqijIfXs10yi78MFiAwg2GoEDQKq/54/uBJiw\n",
              "8AF1DB324PqIEeXlRyG7jZO89hgYWKPXOt7lP3TIPs5v+dEoV7X3mazHAzaNzfJ8OItuZ12roItR\n",
              "wHUBIYBA6xpiq3TbNUa7JHixrUcgAvSZZL5g9JezsOb8DbOn/5Z+tHeQ+zwq6GLycMYuw/zD7EJS\n",
              "C4CYsjqoJhhesD6GkMvCxVFv92T0fLNcgQedJW/p9jNXA9DqifesyrjkzR2SGkiU/v+wc8adrWce\n",
              "XMYR+KMArkztYb/dpV384CyT1agOp/RObNKxFzK8TI2ZuEsAZTCjCAMvvXYQmkw5dsvr6xqOpkfl\n",
              "O0yqW0SgBIbvXLr1kVBTWZkhu6L6wmfu/kty2VQuaNXhEbTvJGnxAKwiru5FnFyXOAXkAAABg0Gb\n",
              "SknhDyZTAgr//talUACEK5F2NV3LvAxkLnhDsf+AFlPwi/k6SqDAdOmJf1PBFoMdbQnQABLABfhT\n",
              "onwWPwo2f/nV7JAA4+Pz/5fwHjSkDdDjwiRCt+JuBBvmIEtvJpkOxc4CP8p7O03c8RtOycXow1eG\n",
              "WOOOo4Bf/Ff+EuSf6FomJsx/97bv4YqewTlPBz+C54OS+2paSb1cBTG9cumCqAErXlyn2ltMzWyr\n",
              "VZ79uJVzRRXX9ys26URJUiSLFhRr7zDHvqdy5B+v7m/DixF2dpBFmTK/BOwaip3ZHaFffzCYvpa2\n",
              "mygSzA1V/I6mrZWmw3cJx90i6nmU9qqvgwrgPCnt791EaKj7dN9e3N5C4oB/j3cGa++r0rT/p0za\n",
              "JQa8jJxaEhf/3u2XFbOFRZu5dR5EPSBE/kFNhBMe2plM02K9gDLiDptz7DiL1vJDXvJs5gTeerBd\n",
              "XeM0XH0nUpBbmXxCe4uYi8HKH8Ki4aRwHMEp1/vLIQZ3l4WGJtycL4EDFwAAAaRBm2tJ4Q8mUwIK\n",
              "//7WpVAAlPg8oAIbaMTm8cPuAGeC/T7H/6eKAUcVW+Wusc2hpxACByINsBvhF69FJgVVGsx9v0H9\n",
              "BFHfyJNdR3DWc8S3TIX//3BgayI7TvUsrIm9+KLk81J3Y/5OnOjON3oBfmCIX9k6XqwF9eXUD7xm\n",
              "bAGUY/sZlHyKP+CzUE2fjS0yjsuJxUdCfSkLvzC68Mo+CJ2ChPWRhoiEoSugtW+wcL6Aj3NNrORa\n",
              "+VCd5VJgJ6vjsNOcncfw2jAE/sSmXOAbkC5eyKh6YS3NJgy+Zrj3OBrNbZ67kAusQZj/Jn1KUiBB\n",
              "wcrdt/dCclWybJ4vfdyivsBDLR8e+ZFwVjHmbWL1vxjTY/jbrFUQWMHv11W6KGLdgots61TQJ3gy\n",
              "w6Ob9eG1qobsUe8o44dSoiT5OeGHaWxZBhlNx26iNMsaW5WeTTsTEEVJp1mi/W+vRltsEVk/rLeX\n",
              "z6f0J+GkoH2z4xpvCgbIkUMBpd4GxNWKHQY8RfYj/vkchvIMlz7m/YmePtXsbv6gKrkBz3Hjyuzk\n",
              "b1MOAEz6AJY3OOAAAAGlQZuMSeEPJlMCCv/+1qVQAJQrkXY1Xcu9L9ut5+stnaXoXCOabXopzvw1\n",
              "ovgAAmwATigIx8oZ47agAvdjaAPgMPIDLQ9SicLnf7dwl+fJNpM6GTnW4ZDUF8l08n8m5Xj0u0bn\n",
              "bSKfCpPnHvG4fPKSl4QpPm5dWcJltRYcj09FMzPHSOna7iJvW/asczoR/qf4RWT+P+6zZHjeEAtz\n",
              "TykH6RHJDc1/lQv6nc1s7wYVe3p2tGDWVZRLa0lKlIhIMqbJFgLvmeoJjbb/L2BwUZXGANG4SiIR\n",
              "34FdsmrKdLxum+cRPcHt2bdNKRRMhCxWn3oKslxUVDrOpKwon8pp+lp7uxM5Z5p84ZIaqSZwEjL+\n",
              "FMB0bVh8FDgXP8d/+A24D8lW7E/k19y2JGUEmRajZhw9yvaGrAbnHT2rstW5g0/L7WDgtXJDvmeb\n",
              "xo+tlASo62kaw6x4yr9nHY0PRPwM/5VJOjQSR1urC/MYdGUw90ChAFrF4rEmPniRiEK0q/vZkF5T\n",
              "KJrVTY9v0vV0sWOapFl6oBUvVPCWiBDJ0DUmEW4uk5XYEp0DUgAAAhxBm65J4Q8mUwURPBX//tal\n",
              "UACE9B/p7WHwAAhPkXluNQFqgiy5kJQL4kJepR+/RK433QuEStKR59oOa/R3Ohr8jcF8j7gJr7K7\n",
              "7U7wRpBwvk+f+CLGRe1ECcyZwycWVSmsc3/GTH6TEv9AKcUqoBPFZw4bmXgKM09wtmsf8puWL5Pd\n",
              "pcAAOCAAd53oCtgM8Aj3zcYs9+ruN4lWyMZyVqU0QfMT1j7h1jcScTbh5qnqYr0IBzwxmqmrwt7g\n",
              "sbrN2qws5TC2PqAFyqBoR1YA9NRG6I48xGqRvhbrfoSqD4UzMUeRHPBlLOkA3UdNt7kEA4NV0FUJ\n",
              "8ABsmkGEMcWzohx4gQY2EoqkidWM+y2+ML4zjnKrVVxIJg9dzwQU9L/ZfewNra3+n9fWPzpg1wY0\n",
              "rSv+BMqyNXaIxYnMU7s0rwYxRwbF3nqtvFprgAjml+4OvlHeJGOfgV7UMtrj+sM5oJaVr44wYHUS\n",
              "ZK2GLo9Q8rvs60I/dUgxLvSogdItD5o9p7J4QTC1QNFAOtRxfMCaR2kd4ehPHeE+8iEogg35hz4g\n",
              "Yh12aKdpGZIdKSwTpsCy19BRs2PXxO3mM+dUCXq0nb5crqdYUY4HU4Q2Ql9yYK9boBnNCzBg94Ab\n",
              "k8YcEZ2OtZ55zj0fxBYv2HbN+96X7sCycz53OO0s1ReG3d8xxcymShx4yw6jfqxLqDOWYU4IdUXB\n",
              "I6jy3KMnSHVQNCEAAAGqAZ/NakEvAAH7S/OxwLTJF1AAQoF+fthcLpxgHZnL0xOaRMaA/RHqLxz+\n",
              "LQDeVbon80YPLmrp8X8G0tiLbengo/xwVk09lrTxfTJiMX+Y8C1+e7x+epCBPKiGSzW6FODuDamQ\n",
              "X2zPQoJlX8+IOEBSfMx5tdbwJC1KHJIdjCpVq5J5zPIE/u2aQoj+aEEeaWkr6MQC+OxGpthICwFE\n",
              "SVlxox8QP54wGwcNbpZn/LuENqOMYNx5iX17Ovyr2QaRLYTbQWidzY0FyLyNoPGZBb0NOXwn1IzW\n",
              "v5CUzQFEpIBd3YFjaEDLgE48bI3A3Zd3DxTj2dt35mCBj26C/1aPUekNQi7I0nxEAVhjbUqRY4oM\n",
              "BLaByVKi34y7wcleHKLJxQjekZzLGQT/mVd3Qqh0o2YI6J0Z0ns5ayo3m6YPxD3HIVxB2L9Igqag\n",
              "Fb/GsCR9/S5EQVIuzELt+3xiYDx+0b/lzZOzikuJlR2JTkFihdRcl+k/J/n2lXw3XENUT0l5QbcG\n",
              "ZhF9PS1wxptLTugTDluwtqSTMbqE1869f1Nd/9qecVerwKrlUpwIqUFTAAABNUGbz0nhDyZTAgr/\n",
              "/talUAB0og2vACFBAb/fyf9Pl/L/lvUovYBVB1qTXR0Q/L86uTKiOQdKbotLcG9Tchnxb7P4DSfQ\n",
              "zBf9TRkSO0KLDM/B/FVWiU7gZZHA6+nRZHwNps4qE/mPT5iDVfVDpzO/ca9c+INikk1D9xJIOPpE\n",
              "iV3PFqMnZMYgABTWzWajH8b4wtTvhimv4Rj9ZKwPh6rzj0BKktiNLt8ej8NAACAUeFD80Zb7JwFt\n",
              "llKIKAdHdg9XOxrX0ytih1EKxYOEuyBEfRPdjNaOQ9oifvvMIOYhDVWanlIbRu2M3XclafzfF55u\n",
              "AIHkPNj4+vgwameqPXv/i6BveVxVeyYZ2qVOjtGN/Wt32C1jOYEMM9zjM7bzhcqJ5x9r8YhncXEB\n",
              "I6EVBQpQ1WPllBeOCQAAAeBBm/BJ4Q8mUwIKf/7WjLAATBXuDj5EeVjxMyVyok5/9/+0QAUvtw1S\n",
              "5Yl51yhX2wiS5sxCZCO7Ebt9zzOzKn9UXU3FGryLdji8612VuzcoLjNFyCY+nTIO/utx72QqB8zF\n",
              "UvcM9415MBqAO9QVvVdUkDMQ6KvbleToeXUQH4X5ght0Kc+wmEu8sw9Z2K4bKvCukTECfjFSbQkc\n",
              "yX93RbNPQZpzDSNOwROoLXL13WugSVWK48Z0d4J4ZPYn5IdehvigiFtzSFUAeIUAWSUHBTkiFX0K\n",
              "lLBBsBWEm6V4OLCE+giaGK2BTwx62sHzR4zq3bNjtqL4n/zbHqu77HBMuYCy5uT9TV746PA+ORzr\n",
              "hbMueUcz/+v/2zHbej3pmMVlC4GTLO6JOdHljE5eWYGRFba717tAytSL8DVkJyqo+7osDeYjtzR/\n",
              "9G8J/IzFAi868xd6Ehw5TgXyHRo5Z2AZifpgYwY7aiOQcer9aKD+eLU6yVC8gGoYOV0qRYKCNzJ+\n",
              "NyiDafUk/WZnP9gMs+nDrHNpe3Fad3eViVdchfDadAKJV5Q/yIG34it6XHRg/9PMnHC23300wrYb\n",
              "RTGLXqwN05r/eGB3sAeSsw85q+x0ivzoZBKA9bsHmolhH18z14YAvIAAAAF9QZoRSeEPJlMCCn/+\n",
              "1oywAShtbagOUobTrkwHv2aHKV4uiXDHtznXG1QwI5A6iUA+KTfgAH77qf8ABFexA5zq0AQSDv2i\n",
              "VjDIAfTJFumLdksfyqlOU4BPvbug1/dGcn/iB9sjiR3wU+/GZdxLZNTobp39oZNAWqtCXhSAktGT\n",
              "qRyIoRHnketoAPZ4/LlngwN8f5f/jdnJb5v1ZtKZkrPQ2mUMegr0jx51t6Z9YTjs7up2lPMza3Z/\n",
              "7vQsj2ZblXpA59nomErabIEXQ/uJC6lOgIiZqlTLfXE+nPPTxx4T4IW+560ElwP9GSlqJbfFXXmj\n",
              "27RpGHa2AVw5gX2PUipH73yjjW82r5FOy1cwbWkE3EIlvtSEu1lvxowE0+xlQp56hvPK5AkWKqjb\n",
              "DBULAcxvZU4nj5Mg1pqtIEaFYilxmARRcVmVAGtFtlJJT+Ob0jBt2n16oHProwzdoFAwBPUKu4md\n",
              "gDhbfoWlVw0aURraP3gT2UVzQFmsh7iqXmhAAAABwUGaMknhDyZTAgp//taMsAEoUiw0c1mbofkJ\n",
              "xwyfYpZ3taHu1vuV8nCyWRkp0Hv82LGlTOneY0DMBZHuLYAAAA4wcAKV2XQ84QI/9AWNGYALMgO7\n",
              "AWTiH+3yT2e+x5RfdeP9y2bmTNdJT4CHljRl/NzTOI7dZQTHsvXy+IVRx97VPN9+bOfntlFJqKDl\n",
              "ZvDnlPfZD4qHzyGecmw8vNeGQh5l4MaA/3E6FWK5hfpt3/3TxEvBQ00uuJrTzq3PCoR2X0UWc1pA\n",
              "FX7twprPBE2P8GwBbGSfLWODj7UTK0dwz9PCdBE5HgX4WuSwOwCVZeGckZr6XeBjB1y6PKKWRwaW\n",
              "M9PPyFiFgifn9+2m3OE4KyYaDZuAm4l1xB5S+7QEr2UF4NPa0rgmx4MOyhw+ZxP5Ca26aa65jtca\n",
              "TjTAB51Cqrp28Wka3TvtBDJMkf/iBZKNSarYswn76Zj5MdOd8g/OPDfryORmFbOyeADZkwWuA5H0\n",
              "Y6gdkvGnQlc0q5gc6vl7J1T/P2M0m/F7CmC9b4KS702neBsW62nDByD53NevTEfd7EABrD1T4j8D\n",
              "gE6PlZUvCQuDrdO7zREWvqJALJsQeQ2ZAAAA50GaU0nhDyZTAgl//rUqgAOO7wl5tw6xyGKWS/SW\n",
              "DKfvkJsxhyVJLP03OjGSGfkUZe7KekFTJG8+UqqUnLtc/oJmwhkRDCABLHyOlLzPgBCeckHcs8wQ\n",
              "aiybTT7Gw7ocRii/Vl2KcTJXBFVYGosy7lCMl7o+LP1URLG8d2O71ynjabyIRFlnYhsxDEq99iU5\n",
              "Y9aSJ4L7G6gqHz2b24fEB5Qlt/Zeyub+Tb5q6g3/ouevpC++HTn8MKYmSTrAnaIJcD1MBliIAePE\n",
              "lZe9+a2e2KsD5aoJjW3Z64ackC5feFMIOcsET6lvzwAAA6Jtb292AAAAbG12aGQAAAAAAAAAAAAA\n",
              "AAAAAAPoAAAnEAABAAABAAAAAAAAAAAAAAAAAQAAAAAAAAAAAAAAAAAAAAEAAAAAAAAAAAAAAAAA\n",
              "AEAAAAAAAAAAAAAAAAAAAAAAAAAAAAAAAAAAAAAAAAACAAACzHRyYWsAAABcdGtoZAAAAAMAAAAA\n",
              "AAAAAAAAAAEAAAAAAAAnEAAAAAAAAAAAAAAAAAAAAAAAAQAAAAAAAAAAAAAAAAAAAAEAAAAAAAAA\n",
              "AAAAAAAAAEAAAAACgAAAAeAAAAAAACRlZHRzAAAAHGVsc3QAAAAAAAAAAQAAJxAAAEAAAAEAAAAA\n",
              "AkRtZGlhAAAAIG1kaGQAAAAAAAAAAAAAAAAAAEAAAAKAAFXEAAAAAAAtaGRscgAAAAAAAAAAdmlk\n",
              "ZQAAAAAAAAAAAAAAAFZpZGVvSGFuZGxlcgAAAAHvbWluZgAAABR2bWhkAAAAAQAAAAAAAAAAAAAA\n",
              "JGRpbmYAAAAcZHJlZgAAAAAAAAABAAAADHVybCAAAAABAAABr3N0YmwAAAC3c3RzZAAAAAAAAAAB\n",
              "AAAAp2F2YzEAAAAAAAAAAQAAAAAAAAAAAAAAAAAAAAACgAHgAEgAAABIAAAAAAAAAAEAAAAAAAAA\n",
              "AAAAAAAAAAAAAAAAAAAAAAAAAAAAAAAAAAAY//8AAAA1YXZjQwFkABb/4QAYZ2QAFqzZQKA9oQAA\n",
              "AwABAAADAAQPFi2WAQAGaOvjyyLA/fj4AAAAABx1dWlka2hA8l8kT8W6OaUbzwMj8wAAAAAAAAAY\n",
              "c3R0cwAAAAAAAAABAAAAFAAAIAAAAAAUc3RzcwAAAAAAAAABAAAAAQAAADBjdHRzAAAAAAAAAAQA\n",
              "AAANAABAAAAAAAEAAGAAAAAAAQAAIAAAAAAFAABAAAAAABxzdHNjAAAAAAAAAAEAAAABAAAAFAAA\n",
              "AAEAAABkc3RzegAAAAAAAAAAAAAAFAAACh8AAANvAAABLwAAAgMAAALWAAAB9wAAARwAAAGiAAAB\n",
              "EAAAAWAAAAGHAAABqAAAAakAAAIgAAABrgAAATkAAAHkAAABgQAAAcUAAADrAAAAFHN0Y28AAAAA\n",
              "AAAAAQAAADAAAABidWR0YQAAAFptZXRhAAAAAAAAACFoZGxyAAAAAAAAAABtZGlyYXBwbAAAAAAA\n",
              "AAAAAAAAAC1pbHN0AAAAJal0b28AAAAdZGF0YQAAAAEAAAAATGF2ZjU4Ljc2LjEwMA==\n",
              "\">\n",
              "  Your browser does not support the video tag.\n",
              "</video>"
            ]
          },
          "metadata": {},
          "execution_count": 29
        }
      ]
    },
    {
      "cell_type": "markdown",
      "source": [
        "# 2. Valor tipico\n",
        "\n",
        "En esta parte usamos el codigo del punto anterior para tratar de encontrar el valor tipico o esperado de el numero de particulas en las configuraciones factibles.\n",
        "\n",
        "En esta simulacion, ejecutamos $n$ instancias de configuraciones factibles usando la implementacion anterior del *Gibbs Sampler*.\n"
      ],
      "metadata": {
        "id": "yZqkjLjfMvNo"
      }
    },
    {
      "cell_type": "code",
      "source": [
        "def histogram(n_simulations, k, n_gibs):\n",
        "  x=0 #variables para calcular var y promedio\n",
        "  xx=0\n",
        "  start_time = time.time()\n",
        "  bins = np.zeros(k**2 + 1, dtype=int) # array para las frecuencias\n",
        "\n",
        "  for i in range(n_simulations):\n",
        "    hard_core_sim = GibbsHC(n_gibs, k) # simulacion gibbs samples de un tablero K x K\n",
        "    num_ones = np.count_nonzero(hard_core_sim == 1) # se cuentan la cantidad de 1s\n",
        "    bins[num_ones] +=1\n",
        "    x+=num_ones\n",
        "    xx+=num_ones**2\n",
        "\n",
        "  indexes = np.nonzero(bins)[0]\n",
        "  bins = bins[bins != 0]\n",
        "\n",
        "  pos = np.arange(len(indexes))\n",
        "  ax = plt.axes()\n",
        "  ax.set_xticks(pos)\n",
        "  ax.set_xticklabels(indexes)\n",
        "\n",
        "  plt.xlabel('Number particles')\n",
        "  plt.ylabel('Frequency')\n",
        "  plt.title(f'k={k}, Gibbs steps={n_gibs}, Simulations={n_simulations}')\n",
        "\n",
        "  plt.bar(pos, bins, width=1, color='r', edgecolor='black')\n",
        "  plt.show()\n",
        "  print(\"Elapsed time:\", time.time() - start_time, \"seconds\")\n",
        "  mean=x/n_simulations\n",
        "  print(f'Var={xx/n_simulations-mean**2}, mean={mean}')"
      ],
      "metadata": {
        "id": "vuIgVfWuMx3y"
      },
      "execution_count": 30,
      "outputs": []
    },
    {
      "cell_type": "markdown",
      "source": [
        "Para el primer caso, se ejecutan 10000 instancias de una matriz $10 \\times 10$ y deteniendo la simulacion en $X_{10000}$. En este caso se ve graficamente como el valor esperado está al rededor de 23, tambien se calculó la media muestral que es de $23.4$."
      ],
      "metadata": {
        "id": "rbISCYnnHDNM"
      }
    },
    {
      "cell_type": "code",
      "source": [
        "histogram(10000, 10, 10000)"
      ],
      "metadata": {
        "colab": {
          "base_uri": "https://localhost:8080/",
          "height": 507
        },
        "id": "HtyzSffS00gy",
        "outputId": "21b60210-10cd-4a0e-94d4-1bc095cd5e27"
      },
      "execution_count": 31,
      "outputs": [
        {
          "output_type": "display_data",
          "data": {
            "text/plain": [
              "<Figure size 640x480 with 1 Axes>"
            ],
            "image/png": "[encoded data removed]"
          },
          "metadata": {}
        },
        {
          "output_type": "stream",
          "name": "stdout",
          "text": [
            "Elapsed time: 383.3878560066223 seconds\n",
            "Var=8.591943749999928, mean=23.6675\n"
          ]
        }
      ]
    },
    {
      "cell_type": "markdown",
      "source": [
        "En el segundo caso se repitio en mismo procedimiento pero deteniendo la simulacion en $X_{100000}$, esta grafica es muy similar a la anterior aunque se ve un grado mayor de apuntamiento."
      ],
      "metadata": {
        "id": "YBi3p0tXG0O0"
      }
    },
    {
      "cell_type": "code",
      "source": [
        "histogram(10000, 10, 100000)"
      ],
      "metadata": {
        "colab": {
          "base_uri": "https://localhost:8080/",
          "height": 507
        },
        "id": "RyMe0t6p2fZM",
        "outputId": "c10c82a4-1a43-4688-9915-02ab7a6433f7"
      },
      "execution_count": 32,
      "outputs": [
        {
          "output_type": "display_data",
          "data": {
            "text/plain": [
              "<Figure size 640x480 with 1 Axes>"
            ],
            "image/png": "[encoded data removed]"
          },
          "metadata": {}
        },
        {
          "output_type": "stream",
          "name": "stdout",
          "text": [
            "Elapsed time: 3807.1569097042084 seconds\n",
            "Var=8.419809909999913, mean=23.6503\n"
          ]
        }
      ]
    },
    {
      "cell_type": "markdown",
      "source": [
        "# Algoritmo 2\n"
      ],
      "metadata": {
        "id": "yftFjWmtXziw"
      }
    },
    {
      "cell_type": "markdown",
      "source": [
        "El siguiente algoritmo va a colorear una matriz de $K \\times K$ de modo que dos celdas adayacentes no tengan el mismo color. Dado que puede no existir un coloreo para un grafo (i.e usar 2 colores y el grafo no es bipartito), usaremos una cantidad de colores $q>n$ ($n$ maximo degree de un nodo), por tanto, por palomar el coloreo existe y al ser matriz usaremos $q>5$."
      ],
      "metadata": {
        "id": "OighghhOZRII"
      }
    },
    {
      "cell_type": "markdown",
      "source": [
        "Primero creamos la funcion que nos dira que color vamos a poner en la celda $(x,y)$, donde $x$ es la fila y $y$ la columna."
      ],
      "metadata": {
        "id": "pgYzXuQVbiPM"
      }
    },
    {
      "cell_type": "code",
      "source": [
        "q = 5\n",
        "dx = [0,1,0,-1]\n",
        "dy = [1,0,-1,0]\n",
        "\n",
        "\n",
        "def get_color(x,y,mx):\n",
        "  colors = []\n",
        "  for i in range(q): #creamos lista con colores disponibles\n",
        "    colors.append(i+1)\n",
        "  for idx in range(4):\n",
        "    nx = x + dx[idx]\n",
        "    ny = y + dy[idx]\n",
        "    if nx >= 0 and nx < k and ny >=0 and ny < k : #revisamos que la celda este los rangos permitidos\n",
        "      if mx[nx][ny] > 0 and (colors.count(mx[nx][ny]) > 0): #revisamos que la celda adayacente tenga algun color\n",
        "        colors.remove(mx[nx][ny])#quitamos los colores usados\n",
        "\n",
        "  it = random.randint(0,len(colors)-1) #encontramos un color aleatorio\n",
        "  return colors[it]\n"
      ],
      "metadata": {
        "id": "nw-cDukAX2Bb"
      },
      "execution_count": 33,
      "outputs": []
    },
    {
      "cell_type": "markdown",
      "source": [
        "Una vez tenemos nuestro generador de color, debemos someter la matriz a $times$ (i.e $X_1,X_2,...,X_{times}$), donde vamos a imprimir las primeras $10$ iteraciones de la cadena de Markov."
      ],
      "metadata": {
        "id": "Mi2Ao-RGu3It"
      }
    },
    {
      "cell_type": "code",
      "source": [
        "def print_matrix(mx):\n",
        "  for i in range(k):\n",
        "    print(mx[i])\n",
        "\n",
        "\n",
        "def q_coloring(times,k):\n",
        "\n",
        "  for i in range(times):\n",
        "    x,y = random.randint(0,k-1), random.randint(0,k-1) #generamos celda aleatoria\n",
        "    if mx[x][y] == 0:\n",
        "      mx[x][y] = get_color(x,y,mx)#asignamos color\n",
        "    if i < 10:\n",
        "      print(\"Interacion \",i)\n",
        "      print_matrix(mx)\n"
      ],
      "metadata": {
        "id": "XoYMgxagom_J"
      },
      "execution_count": 34,
      "outputs": []
    },
    {
      "cell_type": "code",
      "source": [
        "k = 5\n",
        "mx = [[0 for _ in range(k)] for _ in range(k)]\n",
        "q_coloring(100000,k)\n",
        "print(\"Coloreo final: \")\n",
        "print_matrix(mx)\n"
      ],
      "metadata": {
        "colab": {
          "base_uri": "https://localhost:8080/"
        },
        "id": "oibOykagvXs_",
        "outputId": "873ac892-e48e-477f-aef3-70422fc565b4"
      },
      "execution_count": 35,
      "outputs": [
        {
          "output_type": "stream",
          "name": "stdout",
          "text": [
            "Interacion  0\n",
            "[0, 0, 0, 0, 0]\n",
            "[0, 0, 0, 0, 0]\n",
            "[2, 0, 0, 0, 0]\n",
            "[0, 0, 0, 0, 0]\n",
            "[0, 0, 0, 0, 0]\n",
            "Interacion  1\n",
            "[0, 0, 0, 0, 0]\n",
            "[0, 0, 0, 0, 0]\n",
            "[2, 0, 0, 0, 0]\n",
            "[0, 0, 2, 0, 0]\n",
            "[0, 0, 0, 0, 0]\n",
            "Interacion  2\n",
            "[0, 0, 0, 0, 0]\n",
            "[0, 0, 0, 0, 0]\n",
            "[2, 0, 0, 0, 0]\n",
            "[0, 0, 2, 0, 0]\n",
            "[0, 0, 0, 0, 0]\n",
            "Interacion  3\n",
            "[0, 0, 0, 0, 0]\n",
            "[0, 0, 0, 0, 0]\n",
            "[2, 0, 0, 0, 0]\n",
            "[0, 0, 2, 0, 0]\n",
            "[0, 0, 0, 0, 0]\n",
            "Interacion  4\n",
            "[0, 0, 0, 0, 0]\n",
            "[0, 5, 0, 0, 0]\n",
            "[2, 0, 0, 0, 0]\n",
            "[0, 0, 2, 0, 0]\n",
            "[0, 0, 0, 0, 0]\n",
            "Interacion  5\n",
            "[0, 0, 0, 0, 0]\n",
            "[0, 5, 0, 0, 0]\n",
            "[2, 0, 0, 0, 0]\n",
            "[0, 0, 2, 0, 0]\n",
            "[0, 0, 0, 0, 0]\n",
            "Interacion  6\n",
            "[0, 0, 0, 0, 0]\n",
            "[0, 5, 0, 0, 0]\n",
            "[2, 0, 0, 0, 0]\n",
            "[0, 0, 2, 0, 0]\n",
            "[0, 0, 0, 5, 0]\n",
            "Interacion  7\n",
            "[0, 0, 0, 5, 0]\n",
            "[0, 5, 0, 0, 0]\n",
            "[2, 0, 0, 0, 0]\n",
            "[0, 0, 2, 0, 0]\n",
            "[0, 0, 0, 5, 0]\n",
            "Interacion  8\n",
            "[0, 0, 0, 5, 0]\n",
            "[0, 5, 0, 0, 0]\n",
            "[2, 0, 0, 0, 0]\n",
            "[0, 0, 2, 0, 0]\n",
            "[0, 0, 3, 5, 0]\n",
            "Interacion  9\n",
            "[0, 2, 0, 5, 0]\n",
            "[0, 5, 0, 0, 0]\n",
            "[2, 0, 0, 0, 0]\n",
            "[0, 0, 2, 0, 0]\n",
            "[0, 0, 3, 5, 0]\n",
            "Coloreo final: \n",
            "[5, 2, 4, 5, 3]\n",
            "[1, 5, 1, 3, 5]\n",
            "[2, 4, 5, 1, 3]\n",
            "[4, 1, 2, 4, 1]\n",
            "[1, 5, 3, 5, 4]\n"
          ]
        }
      ]
    },
    {
      "cell_type": "markdown",
      "source": [
        "Ajustando un poco el método de animación del primer algoritmo podemos realizar una animación de los primeros 50 pasos."
      ],
      "metadata": {
        "id": "5Yj0V9DwQZbo"
      }
    },
    {
      "cell_type": "code",
      "source": [
        "k=5 #Tamaño ajustable del tamaño de la matríz\n",
        "mx = [[0 for _ in range(k)] for _ in range(k)] #Generar el estado inicial\n",
        "temporal = [] #Acá guardamos los frames de la animación\n",
        "\n",
        "for i in range(10000):\n",
        "  x,y = random.randint(0,k-1), random.randint(0,k-1) #generamos celda aleatoria\n",
        "  if mx[x][y] == 0:\n",
        "    mx[x][y] = get_color(x,y,mx)#asignamos color\n",
        "  if i<50:\n",
        "    temporal.append(copy.deepcopy(mx)) #Guardamos frames solo cada 500, pues 10k imagenes es mucho\n",
        "\n",
        "fig, ax = plt.subplots()\n",
        "frames = []\n",
        "\n",
        "for i in range(len(temporal)):\n",
        "\n",
        "    img1 = ax.imshow(temporal[i], animated=True) #Pasamos de matríz a imagen\n",
        "    frames.append([img1])\n",
        "\n",
        "ani = animation.ArtistAnimation(fig, frames, interval=500, blit=True, repeat_delay=1000)\n",
        "ani.save('movie_example.mp4')"
      ],
      "metadata": {
        "colab": {
          "base_uri": "https://localhost:8080/",
          "height": 430
        },
        "id": "c52vYEJbPCsk",
        "outputId": "cb6c2491-3c4d-405b-972c-8f6b13096165"
      },
      "execution_count": 36,
      "outputs": [
        {
          "output_type": "display_data",
          "data": {
            "text/plain": [
              "<Figure size 640x480 with 1 Axes>"
            ],
            "image/png": "[encoded data removed]"
          },
          "metadata": {}
        }
      ]
    },
    {
      "cell_type": "code",
      "source": [
        "ani"
      ],
      "metadata": {
        "colab": {
          "base_uri": "https://localhost:8080/",
          "height": 501
        },
        "id": "-ITQlrPhP3Lu",
        "outputId": "9588b259-7353-4395-859c-df5a6c2e5f6e"
      },
      "execution_count": 37,
      "outputs": [
        {
          "output_type": "execute_result",
          "data": {
            "text/plain": [
              "<matplotlib.animation.ArtistAnimation at 0x7d0058661480>"
            ],
            "text/html": [
              "<video width=\"640\" height=\"480\" controls autoplay loop>\n",
              "  <source type=\"video/mp4\" src=\"data:video/mp4;base64,AAAAIGZ0eXBNNFYgAAACAE00ViBpc29taXNvMmF2YzEAAAAIZnJlZQAANc9tZGF0AAACrQYF//+p\n",
              "3EXpvebZSLeWLNgg2SPu73gyNjQgLSBjb3JlIDE2MyByMzA2MCA1ZGI2YWE2IC0gSC4yNjQvTVBF\n",
              "Ry00IEFWQyBjb2RlYyAtIENvcHlsZWZ0IDIwMDMtMjAyMSAtIGh0dHA6Ly93d3cudmlkZW9sYW4u\n",
              "b3JnL3gyNjQuaHRtbCAtIG9wdGlvbnM6IGNhYmFjPTEgcmVmPTMgZGVibG9jaz0xOjA6MCBhbmFs\n",
              "eXNlPTB4MzoweDExMyBtZT1oZXggc3VibWU9NyBwc3k9MSBwc3lfcmQ9MS4wMDowLjAwIG1peGVk\n",
              "X3JlZj0xIG1lX3JhbmdlPTE2IGNocm9tYV9tZT0xIHRyZWxsaXM9MSA4eDhkY3Q9MSBjcW09MCBk\n",
              "ZWFkem9uZT0yMSwxMSBmYXN0X3Bza2lwPTEgY2hyb21hX3FwX29mZnNldD0tMiB0aHJlYWRzPTMg\n",
              "bG9va2FoZWFkX3RocmVhZHM9MSBzbGljZWRfdGhyZWFkcz0wIG5yPTAgZGVjaW1hdGU9MSBpbnRl\n",
              "cmxhY2VkPTAgYmx1cmF5X2NvbXBhdD0wIGNvbnN0cmFpbmVkX2ludHJhPTAgYmZyYW1lcz0zIGJf\n",
              "cHlyYW1pZD0yIGJfYWRhcHQ9MSBiX2JpYXM9MCBkaXJlY3Q9MSB3ZWlnaHRiPTEgb3Blbl9nb3A9\n",
              "MCB3ZWlnaHRwPTIga2V5aW50PTI1MCBrZXlpbnRfbWluPTIgc2NlbmVjdXQ9NDAgaW50cmFfcmVm\n",
              "cmVzaD0wIHJjX2xvb2thaGVhZD00MCByYz1jcmYgbWJ0cmVlPTEgY3JmPTIzLjAgcWNvbXA9MC42\n",
              "MCBxcG1pbj0wIHFwbWF4PTY5IHFwc3RlcD00IGlwX3JhdGlvPTEuNDAgYXE9MToxLjAwAIAAAAex\n",
              "ZYiEABX//vfJ78Cm61tbtb+Tz0j8LLc+wio/blsTtOoAAAMAAAMAAAMAevBYIRD8yKKuvAAAAwMo\n",
              "AF5BB/wpjj4AOqzTtrAR5+LtxUtLehlaMjyqBkOl6zsVKcjJ/QUiZIus6Bbf/hDlMjP7bEXahJng\n",
              "3Xz4l/rd7mdM/n2e78+x963hnNU/k2F4rrdO6M0JW333uoAbhE26+IJHUteC8X71sXE0YtSub98v\n",
              "ThhIIF5afneVmanZuWCoDhL65cI8seS7/ri3B/7+cJ4EBDO+FSNrGw/iV1VIkl3sCbdEiNdLBtOA\n",
              "HSDGQdFRiwrzQVbrpXX9hZOekh7hLv1JSm1YAmgUTxIZTPf/EmBkP6kdq26iFnL29e74CDNBFWo0\n",
              "bxx/NkepQ6TuU30hM79O5EjKSi+7DjoVNFce9gOVZKJQfPSu/sXOzMNnEiQFu3Y7JDEhHTvGdVg7\n",
              "TnFPe4OfD4fDpeqTHtXyzv3BARc54djZ2IeWbBU1roXHspJ/fgavAO6Qd8exWhqxOwQ/42G79QU9\n",
              "mIB6ElbtWdJcOok3xWJ3fcZfBot/7iOMz+P/+7Nt+b2WfvmprNTRFEB28+i2sLBp1X7VWKwn+Qzs\n",
              "C8DXg7z9Xf0f3Ab7Muhek09HSXiZNkCOHCWOS5NiMMgiXePX8U3H8uAxeKKTs9t1v69K+fxVzeLz\n",
              "55Kz8hBV6mTObrn8S9QNRN1CGaaAAyhovZbZMfMUFy/zCKYuNJFptzT5SzcU0lX/fgp/4vPeIqNM\n",
              "kEvu3plaQ69UoqIu2uJJX92NqADIEQrhW1kntogleCK4sAPQS9qiTgNEKOBCYULna0mCWYLmcBlm\n",
              "AUDdCOZqMyJj3BVIhOXR/Q7jUPM0AhFtJmIGv52SNoN0gDY3OssNxfdtE4lMseEXhhiCDrMdb0rj\n",
              "3zZzjkzMWI7V2xfqPNaxonk4Gx9L1w/DLHrd4RXumuXQWCWJqdw3VDhakD5dAUO+u48jKzDyk+w4\n",
              "6KjkMbDhP9wmzEn099nzj4UFs+sW+fjx+6/5omw9WH0ikisiiOyTkXigVgRY6nAGIfYGNNBs8dWX\n",
              "c3v3y/zOjnXB9VsaAK9vdkmFwItBYjTzd/omcS0OrEoaBfWr9cwpD6DEcJYeru3S8bGZ0sqhdGn0\n",
              "OBY2yNnqs8P77wbnpV1E+Qjl40v+tc5U+CGDzwwOOZA2aoChTJPDdNbHoRkBa0K9XQnFRo4oeXos\n",
              "JzN+0VzezGeyK+nxVQFv6MQp0zWmEnYv6kHvUAhxxrhpdWQVpYI5z6WiN7Mo/dml5idUZMesMLh9\n",
              "qAf/hwtweOebqq9zgdHRVye8dB+FSgFGwhY5jrS+rz5X6K9nRs4d3LztZEoOlT7JA1YA72Iuoug7\n",
              "99SBzaozhDhBwo7NrCcaPHLXWsWCfXhFKMt/orv5009dw0egdz0aUBIwvARNUJZpM6lZAdmgcXWq\n",
              "HdpWMwRE8PEflUM21pL+lJAkRCSctNtlG3kTdUmo2XTuT/Zsq3sFG4BCjdYC3KiL6JduNkZiRiN9\n",
              "15YGea8deUgF45xghq1HJZCDpvlaY/v6Dz6ihpGwSVmsGfF4a9CV6mCsqDQuxCcmVsZrqw4MUgcC\n",
              "cz7xomboalRARnPWwR0lbavN97t8R0sEn6uqttiv1+TR//skK5FTf/c7V/CAK/iS1IUsYpnS1Kpk\n",
              "Cz4yhqlFJnw4IzppJZKFgli9p35rqCiEDdjhvop6WoU1evo9Op2bFfTPHJMrD/nDDf53h0tp3wZn\n",
              "VjlQsnM5l5KI0V/0ZQ/6N607Zr5i9uu6RUtKK63JgFwZKmqBzqZriCdxYiAzE9B7JJtxLi68Jo45\n",
              "r306hwcnpitA8TL4FseuYZxlMod9Dfum55Cf5BWGhWkAABf8waqD8U8nU66DN/In4ry2YX7AC5Qa\n",
              "YF75gPJKRWpz44aj5LhZ0O5wF5btKAwS/yzXmz8JXZ2xFFZC+Qm++H/lQXcp3HEYcYE1JkmQRAy3\n",
              "l/Z6lXbUUKMPHqMVaCN4oW1tV5RzPg4CVZfhgq2JWZCk0Urj0/Ey8T5FbMkrv1ttktMcEwPau6/q\n",
              "EYTIaGNjBIsLlxpS0X/0ToIlEhn+vMYywoZE+IlLoNnFJMnws1hACh/64C6sXqJVbTv8CYWJ8Byg\n",
              "ixKBTv9GJw08EYm2iEkbEk96jPjIt2g3L8ThXJx7dAmmAnJh1QoaidjU/jThwMKKQJoTKSUFF6V3\n",
              "Bj6jl1Q3s3u6h/dP7CNxOVnWHOZdP7W7k3vh5LZBqDrDOtTKxNYHDAG6kgxYThXWQMlG7H1Fu40h\n",
              "gAuWbHPMvv/R5JnpGaGilnS2tdgrCmw/sxKXNdLVZulYA2XmLSShjImPD4ez+CtaQT1p0bztAD2q\n",
              "jfncsEzYmCYc8QJIiZu/px+WCJZ8grAx075rc6KqDl+EQ5TH08yZp6TWttC50uK1EJ5COiaJ9yzJ\n",
              "AH5Qh7MroRsev0j0Jl08URwjJhoykSygGyYpOKS4cqq1rUuapn/n7WB1POO9pJTRZmZDgKCQmjTH\n",
              "/mW1BciIsdRl6HY3PUViRq65I8clT0zZuH5wOAn63yiRlig1QIOBOQfzZG5w8ZJQeArPzbWTEFgV\n",
              "w3w+70fo43kwazU6vAb6EvPYsyZgAAYXSiN3MAArIQAAARdBmiJsQV/+1qVQAAADAAAShwE4DF0e\n",
              "tzQu4Ulqf9rryPDrnBqkj6Y2ESsZ/I5dC9l5L8x7l8Vc71JXsz3kSGLk7yJgGJIBh8lL5QgyjDXK\n",
              "/CEFRIF6qn/QACwxf7kGiZAXyVIN2w8ZNRmy7NUDIP8Vq1JJ7nJQ6Qzu7KDUmB/JED3qRY3nLaqS\n",
              "wrlJeOJJlDmDXqZnK1KfbW15rLheiLjordzlfRcwD17MDB4Op2UHISn4vXzuKFwWJPybYQ2Ei6c/\n",
              "jpamqTOKsE0XN2M1Tcrs9IjlNqIFKYDCjp6SGl6tSdW40Wv4qoor3xbsnSfX/PXyQGpKkmD3HIb+\n",
              "SbukOJmWnt1haDWuEmAinLaBBQIlJGVMBVMDs5sAAABPAZ5BeQS/AAADAAADAEdTiEE733rb/DQz\n",
              "l7tklVDGJ2Wf1ogh9Z+xVufN1ouoSDCDn5q7YEhFuTSId/IQ9Zl6mY+sfjyB3a/yMmY4wC8nkQAA\n",
              "AhxBmkM8IZMphBb//talUAAAs3EWp/zjmCAB8nU0ldFOmVIEp0rJZv6oOn2LVQwB4OuH/YeRqf3R\n",
              "V3ztc02Rg50s4Y+X/2/BJNa/mLK6Y5M/RX4xq4GDIrPxBEuInSXCZAmnjfj2jWn2ysY2COfUtANf\n",
              "U1PxE8ISwE/Y+yQ+xLmDFmccj1umaG9tqZU2e374klzdcJT/z+TtnowYvIj/9BQE0jxMMvY/9b2Z\n",
              "zxolt+ZLKHTmcjgyeTBgRcRLOzKLzFG7eC0vdkjbwNVZmBhlCkQpeCaKMEYSUuVSOrRhO2PW8nXq\n",
              "iQ4BMylJPJymSI14+b/cVs/2pQbmUOEdRSMAihdPafnVzOaxQPye7nXdMupQAemMBHJYQ6jp9xKb\n",
              "tivcuGQGkQlpnOZf9Jg7nTzHsDXmBuhCIlv12uvh9anHgAIDczbYUEgbVBbm3+b/1+WQiQyyIgCz\n",
              "3/eKp8RucIhw1U+3fze3zzEuKi85dJk4C4PDXCS/B3Q48ZsIbNaP25heea49XiCRNfsqP6z3sGkb\n",
              "q58X6wd4SmHu3vKrCYEVijFxyShyYrsAwywO4nz6gXwA4kFCyRN4EOsY9eXkWGgEX1Gf63w/gdle\n",
              "zGY7TO4mZtPXik7EaSS7gjnUWqsxItEiRP2YlX6cQR8f/jl1MFrNQQ0Pk19Nb/GcSUJcjl7OmENp\n",
              "mKhHwPWeCVVOrDWmmfB6GjonBSi/B5AWYS44OS8AAAMqQZpkSeEPJlMCC3/+1qVQAIT0P+nthO9A\n",
              "CXel8IgjY0tdaDzwZ0dwAJ5YhzCxgjx8CUFqlcKzsd6+ahIOLg1wErdjbQHY1FgswLxA6VP0k2Bc\n",
              "8OuIvBCFtRVWqPIzSf8EgaGXDcPXR6yNSMDhQ/5JD5QwBwekjqo+Q1b3Wmb4GKqBP4nsBjDdpvi7\n",
              "Fvtp9akfScxV/ZF9VE4HveFTxZ9ldJcScNbCszaaLq9usEOEnRdTx23KYCVygStq0+o8B1ZkG9QI\n",
              "LBGdoKDPMvWravBA+eTlsTtv4IJVuPwI2tdUT3EhnMdL5yn2TB4xQgZSAUOPncf8AY8sFV8Hf6NM\n",
              "GOTXoSUQRze4+Eq1rwT3R/gmE8y4oYkxHVHXbM+8k2W5+5K92psUVK05lhV9CGOVv18AY8FFwaYo\n",
              "MOFiNiQMzpcKeCWqTxxJR5fM3wrBLkX9yruyjVWmhHwcm3dy1fiFneLrase6tmyDBNN/bmVp+v+t\n",
              "lUmspD8Fp+tKvm2zYZpwdmhd6PrNHH9jmZVmFiXxFRINvf1ScHeb2nT4DymL5CwYBqe9Qg4HWfZK\n",
              "UamlnDLYx42Sj2LKmE7G2Wt7LOr5ExPJQ2i4J4GjuiluaPLk0MrD5wcXXYl6UPBs0PF/CsfnXN0H\n",
              "bhzbTZCVHjTY2LdMfaz0JLROsmh3Ox5T3T/McHLta42ClUfMez7BbkHituXrcVB05wAGdT5wJiFg\n",
              "04/9DCP0VbI+6Yvvy6w9/vF18vR/2Lh7714jtTp+9r98MrLVPpMXOvs4aYsZlALROxRh3c1tnVo3\n",
              "wv1RGkzwYAvjAf1r8M9jrwyLSLWcmdXRXrAuLlcLG2wHAbdSHAlywq2Jst4s5Dlr9PYscDvvGLSe\n",
              "rcOSZC8ulzrb1GIJaSX0I4EXXVW33IXELcAhMwpyQ+mtR1zbtVqSbKkjFrZ/ocm6cJt0GonYW/uK\n",
              "VtggjihiihSAi/icRF0VjmPHQrIdN/khyDcx6HOdFJttk12KMJdGGiu3RAp+n0mTCFyUBB5xw6z5\n",
              "shFhdhJoCUQUAMFNHRW0x9S0sf6TCYSUiBZzSFdyAxYsCeOn9YxVmHv5xMWBAAAENkGahknhDyZT\n",
              "BRE8Fv/+1qVQAISgqzAAsUCUSocTU5sW9QxblP7dcBvvWJ709zlloOYntFx8D7AiqlyMTgDlpH/h\n",
              "NgdUedHCDWwdZzlsePgWxDEajZKqR7zbmijrH01OTnn17mCfJX/Dm+9uAzGo54SDGPfibj95FuG8\n",
              "l4XZsUoQI97b001fy2agayD2P1ZO1WK69XDbassS0SCLpsLK3FOfn2d+4xpEQmY4WuOAjJIKp+xN\n",
              "XXvpu0zknXHInqGP3CytxjXiY/9zP3gKmnP/mXtHg8GV3VcI5gSJ+LFvRlUWYWqCehHZ13UTtjTo\n",
              "EVZyf2d/DdupvKFeB1dpNwlbs/Csb+YS6mV3qqNrprwqPKPIk4no8wp3bIhbajhLagxBdXOM4spH\n",
              "tT1FHUC1aWDQPqBv5pVfov1VjV6Ssyq9b2FyrLeuNm3VGu7yRPEfmT4hy+pqUyWpSl2mKVgVsTW7\n",
              "5WXntKSOgaRk75yHHazbNa/6xDwRK87HmeVP9XVgf4L8Nhmar7cRrtawPyGKJPD1ZSmK3x3BoU/l\n",
              "bWONOparrobFndzu1ZDZKX524vEAkkQnzMiQefHwQSpH/iU5K+YbE70X4QRKDqFQhidMDGXdjZt0\n",
              "1QV2qVYCcTACa7qH29W+fOF1zJD4CaMBUFNVrOHDJI3k4NXyFjwA1WDmFG+4WzY4NNAvGLFNYIre\n",
              "RMI+tWeKM2gcenG30zdrZHR354gaZuySTvKQmQiyLgkqyoH37oMNlHePKMcnseACi/SKIxfJ09Az\n",
              "s/bjPSuB2nklkq1aXBBEiKmUzK7bVP5PDD/IPInkfDzO9cg2fcLqXRj3RzAXydmjvNp8x6t7ccB5\n",
              "dXp1d+fyK1eJqR8pRLdB1geM832ReOTqhQ2fsVW+Dzh0WiVfyCV0T23lH/SzWTLorm/yJSqCgB/r\n",
              "YvFm+KtdTavsXAqFi0qVH3SRzLKx1Evu0dJBpV3ojKm+yswGfEYVYVyO7wjp3svRSjHYdWAEn+nu\n",
              "sU0viFdJeSwiVaCNtQUipUtoak2Sv8pqnsfxl+9hqWwlv/ai3eQFADUUDtBgi1RAFvXtA06l20ZW\n",
              "BIY+FQAjVKL0BVd6etEh7w31Yy1k/RSsNCRfv/r1hBNOkBlsCMYtyvnCiMyjkM8GDq6qJYhXfWVo\n",
              "wKiwlkl6GKNTAoam2gvAb7ZnqDpRXf5aK39yEzhnW2ET0g4TvN1gaVfMcCCzCMF6o+J2w+IO83iY\n",
              "7+SsrDF4qcaB7MOaWH47gcQhm5u/1xC/YC9zlIXDV57DfnkjciFAUCpgWpUW8wLQfw4/tPeIEnio\n",
              "1aqQGJOs8ZEjpcnMHAs3gu8XmC//mK0HpJqSAXhOEJ6be3m/8Fo/W0TFKXz/+Mohs8Hwbp8BriY7\n",
              "Hv4x67Ypzmoj6nnPSwjbhVGVbpYSzxOXRuA1GoyGw4As5ePcbXOmEcJQCkkAAABBAZ6lakEvAAH7\n",
              "S/OxwLTJF1AAObNMZEPICHrdDS3ryay9JAGSaAFxwzflQA/AcYtg/gDy+8XBYA9bwKVxvCfAZtEA\n",
              "AAICQZqqSeEPJlMCC3/+1qVQAHSi8dQALCIT/5+0ttXpwMniTf8XGI8MvGD8FyBPolGwR5HPJcvA\n",
              "5nm7pL5L2Ultn//f4E6kVAxJUc88dhqS5k1iZ5iXJdkddaguUuwGkssCx2bKH/yqzzXvxblb8DDI\n",
              "pgb0xCDtk4mgZq+2S53Z+6ncg8xZE5EGVBgSrvSAN80XX6D66KgutusL61L60+2h/H8INIfd0cmh\n",
              "ASqHridnnQ0j1GrV6WbUQ/YVv35IVw8vlsxJd5ahH5wpdjit/touJhj2zM3h7bNeqr7JuqkRlDzM\n",
              "y567Z7xyZmawYKZc7ga8CpWX7uqPrKP5corumcjO3j7X8M5s2mm+qtxVLIFb/+Ax30U533FDRtj0\n",
              "eVxkNC2pwrUFAM52wfKmtzE3MN9gyBQ/2wYyOjy2t4UIVrDnbt+98RqjTNt1jI36nYhzNAyklaXe\n",
              "ezVnrz7yECXL/YdZ9TRXUEevjR4SJ33IG3SDI9TIA3MMhDebEoPZQjBTU0BKKK5OlRwQTyf6N1NF\n",
              "vZOboDbGmIZYTtGIod4nO927pp4Y8xWpkWkUZ8ahRcteGyqSvG79ruRj1y/q+oe+JGCZVLPxcV+h\n",
              "DCDYV0IVtUN6J5D0rusJNWxdr5+35tlsQYiTPKzJLbTcA+SlRfbVUaFq15WLKXRs3kxXqoQkOfzH\n",
              "2nypuQAAAEdBnshFETwU/wAAoygh4IQip3JV5tZCpr6HLXnPHmpAvEcgAGyfjMFpZwt0fi9aujBP\n",
              "sLpsBmzA+qi7XbKGucIFzGNV89BWwAAAACkBnud0QS8AAcRSoloL6bAO5C1FcoJZWg2Mj+FMHtdJ\n",
              "JJ9f5/OFyGmpwAAAADABnulqQS8AAAMADNuZeNW5wyHkRUOmeTHF3npKdeGdjnze9CeQA0kcGAIu\n",
              "X84q900AAAJQQZrsSahBaJlMFPBb//7WpVAAAAMDUYBJQAbcGYODwv08u6DjCMZw94nxD+/28J6H\n",
              "iClITWQVTzMdHwM8RIhfOC5ID//5jA6FuFcfdh6chKcanGAmn1RNkA3wZj9WQ0o4E8LthVhAMxy2\n",
              "oaky9CebpD7MCZ2yHa5KF5Ylv7ziQJwdG3yPWvsoGK2aMcAepZLrFzN1/2xw9YdUxi8ILr1PTG0t\n",
              "bY2UOj9f7J8elae4iWPW51HAP+Aa4ntbQrQTziEjmUlZtYLAGIlVabIgF+i8flkTVMdP+X4WFGWX\n",
              "XoKpi6/5WeyfyDOTuzvBIWlFsqxGySvbTPfdpNxc3Nbrs82LnZmCM64AxxpgyaXKbn6U4xelVK2P\n",
              "PPzW3kP83GNcp06nBEjJ2olN5exKPsorac/VrMbrwHSNUl7e6/cdvGw1xfm+VRiEFjVuI1DCFnoX\n",
              "o7Uo//2soZVNTbGqP8NmFMkwl9qGuOMppuKeuGkc42I49w5EG9EVnO6SNurTiI5C5go5X1An5n/g\n",
              "JCp5OGWrt8a4ksbtOK1xipjmQK3FIovI0cLgE1Nm+reSKTj/sj0dJS/iYL2JDXLiUYj4b4kVJnNW\n",
              "9Jg7fOaPF/J+S9a+BHmO/bzGXvfT8GiSpS5fYjtJImC989zWw388p6JW/lTUIjfjlExSm+hSl8oK\n",
              "4fnADVd1DgOltigqXsGVBhModGDuFy0tJHxF8vB7B50RTvP2LQeVZVsiMffY9sTBlFqi955RrvlS\n",
              "V1P3C17zWye9SMwP6yyDTlZzZNrJukqB/09M8MFSHgAAAEsBnwtqQS8AAAMADNqZObz+AaEIbI0a\n",
              "vWOXEMpAV5RvwnvQQUDH9VtU3hgagWjpJx8ttPsTcbxVilkbfs3aN9SllIp87dv2U780oIAAAAb8\n",
              "QZsNSeEKUmUwIL///tqmWACEonMUAE1Tk4Mzlo2KKI+kowLOn4KIh/H5kWzj8LeY8X0LAU6k6fvb\n",
              "Ar/ZVXNiZpqUfh/GkBEKv95HhN2bggFXxOmm9+7vh4A9oHYYV+QQ1GviKpteXBA5ttAlZ9SPf5KR\n",
              "klCOEQ0L80zh19pVgLi1x5dVRkVnbs0io/p2xRil4gAt183J3lNSgVkMhIXRGsRDGmNNITCdbnw1\n",
              "u7b8WhIXB6Jby3wg5eQx60s7k85A22ZvFwsP1M3qGcw3YfAoCtcLlwsrRGE/SkxFBS/6V64axyWg\n",
              "0Eg5zSVsBeEA7MAo+po+GMuFdGJKWOyUe4cwlshgRpQnL1cPMfk2v6KB2gjBU6LwgXmnHdui3k6i\n",
              "VFelI8v+45BST5idfSBqHIMtCqib1F92JUJP6HZ8/qxHEh7F/Urao0VqxyvgNbfvRFZ7ZZoomX9i\n",
              "bkOfPr1t0IIdOBSh0/uFPlOhSeKTUf3iDAIJk9KmqcXHCOFQWDQhftKjs/BqE0ShG7Ve8cG7ZLtP\n",
              "9ff99pgywED6Gtkx53wv9ji1/NY6rAR0Wc/b2CT2BgMyJKHrUZLHPMPximg8ACwxZ8FMKiL6hw/c\n",
              "VPZ7aPKh+1HfYf7hiCcM3nY7ZcqtP5FhyaH2lMJFg4oFrSMpfmwRJoFLndR1m2/BML7pIBO64gXV\n",
              "kXUNr5zi9ttPFjH8EDzmLweAy2fiSIyu1M+DalPN2xuutJI/DJgKmVFDWWuIb0Z3lUQv0bitIMic\n",
              "FmSlRrqmN0pf3t3RQZ2IQOYv9DGXWkt4RjHutx/MfbUSyYIZ76pnkymBiBFW8edwKoaGsMwjw7zR\n",
              "XWlxwyf+CgJ1m2rDKZM+v5bbddS31aaa6BfdjW5aTUnnDb9DeixLsM9wBkCGfuTr5YkGEQ7RctMI\n",
              "1KiP0oSTz+ukw77JTwg+MdIR7c30hPU0ivWQU7q6z4IbTsnr2LbxzVh92NBsIBPqf8tTXY66ua3X\n",
              "tDZrL+C9/bfePkhtnJbvSAE8FjfL/mlQUz9EMo9MsTJsFJB6HTdyuDH5z2bCsw4Ph4Wgcs22iOPv\n",
              "cXXrodffvB4IdtzgNm1G4Wv2HXG8Ji5DLBQCDkjZpLXDPqVcecinE1fcFv70CZeaBg1tfdOrvvJR\n",
              "1WXjYg7/Y8uOKs8r86aduUM3mN7oA7slhwwuqa8VU26lLRr3b9ywhXCGpShotAU6LhnRG6wG3Uaz\n",
              "uu7BGg2ywvR+7oVcR3dbAj+c+u2FvSl/u0FAPDS7tU0Kl0GHj99XNTdT40H6pOWHyb7kcrcApJqS\n",
              "vobE/riITXfknkfY81DbJ6/dA98J5b/1pssGP7lnT/GqWQtpFub0VCJdlZMp5inksxbkUQZd5TIl\n",
              "a4sb8sFZPKhzcu9T9LXFvyDpg5ou20zUhd2+MXhZzqWRhpfm8ZVLhVB1OkIzmgRljpJJUjNbwXLb\n",
              "mkei42TU8F+0g5lxhzIsri1+5EPcjxJhiEGMdcmuGriLmqMeexF6GpWK0IhUhxKwIA7bYrMguSrW\n",
              "9ZHx0odUOL/fJbnX6NckYbFfenBGBh4qB0rKT4Gu2xVaCb8ai7rf/ZwOutpe88MuJlGEKaiDkzMK\n",
              "vdcf2TIWO9i5VgfQAI4aI7Gyz/URVBLSSppIaBEIE3nSYuOPhrqGsifQy0x8nl8e1eYBXmJJcVFT\n",
              "y/dt4e/nXVN+75fcdj6u34bft44M+faPDmarmbtScVRzWwSEYkobFHIdIl8//calG3mNQfl1wVBD\n",
              "xJhjlqreIOmC7zR+CxLE39X7Hm0Hkcqz2ii9adS064N5zh7npvkWbFsGW+Uk8QxOY9kufyQFCDfF\n",
              "ISWSu5EC2JkUgBitUArNMmKZr0tfkUABNPfw0OzVY1aZcAABsQgiWdsfn0sLSF94zJn+xk6gFkFf\n",
              "edILW/Z6vMqozoQxAOYD2+c+Ea46ekWU1jT2p0X/c2pVwlPOEz7VmnrBMD912M3SIzU3y/lnL3FX\n",
              "Q5dRMGhFKSu/RQZigqXk223M8g26eYLbMcnYm+Hc+Kda4atn3av5aYZYr4BvOvPbYF70xQTRc2YG\n",
              "o8mNdgZlBwiaCQPWUEdo0g93jsSnxbDlJEUotqyLSDHqHQNWQnj4Cjq/Yblbks2ziClXnfLu0QHh\n",
              "ynwocd2N/AIvJN5XpfAvWGvsbOGjbxkO8xVHkUqXv3sZzFDfsM7K5+tKieFf93krW1pHrhjDtVya\n",
              "FD8v1soET0k8ByBI2OFmX/2D2O8eXTWyxVaETDq1lBd+f2a4StaeYaM2zBzdevs9WllH/+HbYixV\n",
              "/NA6GvSoKFRM6fzbA2fpdsFHLzpul2WNxS/561ptuVCvdBeZ7JijQgrTyBL3tU/cvgtIXnM1a4Gq\n",
              "vapOl6ZaUJ4K4ga2DN0FA6cRXZ1xAAACQ0GbMEnhDomUwIL//tqmWAB0owlKQBWygj+Qbpy52c+o\n",
              "ZRqT7pZmAXxAvpCSr+yhXfNqC9KGI//22Wa7cUxhAJn/Ej9P6dvU1XvuCYiZv/OZZtFZwhjZuchg\n",
              "eO6lKGT6dZfDcODyphCBYatTab3oNIXch3z+LwSTJ/yCAcSBZDkHoxN9zI6hjuRpWln22x6Yww+y\n",
              "319UDZqsfEps2I8dk++md/k73MJObfbOVFtK4cBliyDrwh7fNuY48SYXHCMnv2wXMIChqlEEGUwL\n",
              "o+ctLAuTpfKOntmF/pU1gKJW348zmksrbhOAW/FraSTm2iTWsgmQVj5pO5SLxkO5TQhPU27kM0oD\n",
              "17ZHqN1XP/FqijFJJSgGchR7MPPKy1Ec7G2WgCPzvBgq1bBM/stHj3koHnKzc6sD4jYt7gwEs0pW\n",
              "oUbQx5wDliNWHxhl2GfYJbZOBiuWtzMain3ixDPeOVly4+NfSCJsywQigZdbmSVi6g21mbeeZHMG\n",
              "Xu4DWe78o6lEzhLe8vtPYp2TnbDfrMEUMU8185URZ4ox9c2lNfw2rOaQD86/zDnVmq6VgIp6h8WQ\n",
              "ZjsRk6wKiuGEBLslqwqdSEkH2siCvMiKUQCJLtAXqNnlnzh+a50z1o+oqpDLvpc6qiyrL2ju10cU\n",
              "GOEmW8YMN0M5V1nr/eQ0pTjr0Lsf6kBCXSZC0CS1U1gn12wZM8JdFgkbk7LGDoTleL0/hfYEXOyf\n",
              "8Rk4mnL2cgPGbJwEp5KZuy2d0VIWLRtYf3kLW4OnS+DwgQAAAH5Bn05FETwT/wABL+HmW6oyqfOO\n",
              "qAAlpwf8GkfXtbe8gDG2AOKpClkdNvo03kU/aaMeWTK/23/MhUPLt1812u6BmcBlgqgB4OGPa9Si\n",
              "5gYSPADizSHg6vDEyHih8KCpNdMY40p0Nczdj1NZ3fOmQIuunR87e4MaCdhvzde6lTEAAABcAZ9v\n",
              "akEvAAAFz3+kZBVskcSiaO4Sqr/hwI7BvNmMAiuuyGRRdkZKpmPJdBFny2QgvpHo8wiDi3PjL5/D\n",
              "STep9hHylNVfRx9HmcjLrl6QRn2c0sU+AGP7+a8ii+0AAAJgQZt0SahBaJlMCC///tqmWABeOS/0\n",
              "zvO9QBe/KyGTZInOXH56ZDTOKxUaARIi/Mhkq592bYI8bmlBaYLGcjZcb/Tw/xP//moE4i7p4XJr\n",
              "oGnsjqzxeEs9nah/q4Pf8AQT5OuHRTKg6P6Vcrxrcbay6Az/4JmSUvhhJG5pTZ1qdIQs8GTV56RS\n",
              "CO57aDPpMwNytkNLE1KNAbTHTj6AOk/czhU51AjztWBUlPFcbla6swi1oZfRt2rP2j8BgSgA8fKj\n",
              "Gr3fsTkOHpnhbhIukpfix/J/2QtdpODYKwzyvThZ+4+mX10tqW/KL702p1ql2jBYY1qC+67Y04HX\n",
              "VAMhdRQI0dMm2z7kVkB59rkuhSh6pKrOGnxt1P5B43wDS0MojChbpbLmWEmXb6oH2005vmY572Qa\n",
              "gBWRfBJRlmioquCPuY+cXf6yilMtdyY0fgqfuo7MJ2dvRPSrve2xyfXLU4/YSxPSCQor209/KkyB\n",
              "KXSEgn6V9t7mdMmMHJn0wtIeuBG6RxXRPpRNWWbLA00nn6cudlUu1Y5krDZa4oXQDLruzUuxgQhi\n",
              "luEnEtE5LcZAr0rKPnUzSEpttfkQwqYv61zKEZkD4cObhj7v7O8Bg2IDCkjFugzblnCzbjxojmrN\n",
              "DGMAU0lJ8dproQ+StJMAfrnursCHocDrVlC1V4jAhD2YE1yKj+298BAQr61/0qhibHVk4BbWQ7EJ\n",
              "i6nbH76s0J/zJxrOLw4EmuDFp5jR9bQ7sC4hY9IxfHh6RzxqcDUeCL9Zcwbz44N29x0PsKau0pyA\n",
              "nxb/nWqwAVpsmOn8iNwU9qQAAAA2QZ+SRREsFP8AAH6wzE/azWLDxvF39vGo0VC+rrQvLlPk9GSW\n",
              "227GycjKDJF7/1IeT8GbaKZhAAAAJwGfsXRBLwABasjm402EpRKTvLqlibVxYG4cV6yAgJGNAAIC\n",
              "AXgCPgAAACIBn7NqQS8AAAMAABDSfpGQVbCnUC458LZNN0igfjDn3s/wAAABTUGbuEmoQWyZTAgv\n",
              "//7aplgAlPQ/9ALne8gCKkN9w4HntwYBQ51EMpb99OfZOppwKN+iOQnHk2SYaPygFmPz/MVx2eMK\n",
              "AAgnH5xFyq1nMaOE38y+XpNSOvH83okka1iOdi2VbdbbBy3d3Q2xFQCdU6c9DBP+D/tQzuRwieHv\n",
              "KHeudrxsV90O4ttsIiznbnxhlk4zzZSKOiUlpF8uGuRADgel28ZY7m9xYWlPWV7r/guhX1xc4vQn\n",
              "9X1iJS2UruTUPDu8wRUcgUGIHZchthYTZKkDby3QFtk4X1B0s2dhCfsA+TVkJZGriDmFbRL0A9DA\n",
              "x2d9k1t0l6e0ZOQyDaU0rFMlBmypNLZNRWxOAj90882yflnqbETVsGHyeEKFTzpc6o87zjouPEpj\n",
              "9Op3+/msU2u71/jr0hLxjks4EXF7PRwTDGCTZk5WoHZagfgZ8QAAADJBn9ZFFSwU/wAAzWQe37Wa\n",
              "xho1N9DORPh70+FlhdmcWYnPhKk1aT0s0iADamuBGIAl4AAAACwBn/V0QS8AAjohzcabCUqhJRpP\n",
              "J0yI9GuKHPvhb3/EMmoFAFSADZehwkAZ8QAAAB0Bn/dqQS8AAAMAAA7TkyJSQCjMZfAgBCMPfMgF\n",
              "BQAAAUNBm/xJqEFsmUwIL//+2qZYAADLZq1iYP+vwACn1ShboEISRrvHmyzt2EzLR+usNvHwIKBZ\n",
              "PaNORz/PeIqdV//zh/gUYixNHM1ZHTUBeMX8QM7iEJfUCt0DzJynikaMXgnVHTt9JVBaq721+Gft\n",
              "7aZCYuWmoyHjDRsuD+tuvzNR44B3guGsCbp/pT89Vu7JCNyLSnkNp52f0PCKZrLAeG3S9P56bez7\n",
              "wmNiH9dNJgoaNS1hm0hT9ob5mvtjfOICoAjkoXh4gPMvIcR0bLZOuxKPvvgh+PlhN8/CrG1sPYFb\n",
              "uVKvnGoOS4akyN6XIUtHpTgcEhXKrvC6gENeQ4pFt0VVVIvA2UnrImwOSmPcZ7xqajiTCf5V797l\n",
              "AJ5wj88NA3iJwi8C2PeAZT61hkkiO8EHwz6ecV2wkJ5+Cfvj34iBjqCPgAAAADNBnhpFFSwU/wAA\n",
              "AwEUvXylmKNxhtnATu3iFzHb6D3PXI2X6elIdSP/ABuQAhU1wIxAEvEAAAAdAZ45dEEvAAADAAAO\n",
              "0pUZaeUvZIDgQAhGHvmQCggAAAA/AZ47akEvAAADAw6mMcculSks/vqn4BiVdJvJgAOOYF7aE8KA\n",
              "sVkdDG+ByQUCpvgDuxQ4BeZB9s1WHn3jgDjhAAAAZEGaIEmoQWyZTAgv//7aplgAAAMDUcohgAP4\n",
              "s46uyZQ6AY1HcKTfEq1wvDAOmnGugiSoBj8o3mjAqXvAGOm/IgfuWIM7ORxVU2fJuApsNNComc9x\n",
              "twof66VYHlFwRYnT/L8Q1IEAAAAuQZ5eRRUsFP8AAAMABJK1qXdUALG04m3b3GaYdSjEUZ7q292C\n",
              "by/WehcSphgEDAAAACUBnn10QS8AAAMADNrF3v57miapwI8pAiikHSFhgQAhGHvHAE3AAAAAGwGe\n",
              "f2pBLwAAAwAADtOTHPoNzgQAhGHvpbBtwQAAAp9BmmRJqEFsmUwILf/+1qVQAAADA1W+HdK2S4oA\n",
              "WE8JRLP3yUibEpkWS0moyuHpW8CSyKlb65A2oJ73+5eiwlp+FnGBqgR98BsAJH/8lz4aaXtnWm5o\n",
              "8Z+Nu3misfbY5DmmXrKr4TLQkZ6JFtHEUHT2f1sKZ5wt87ffqM3RZIVXViRwxUFLTyq1OshTw5V/\n",
              "GijoCxsfiPbFngZzP2nqIHL4zQkaMEnofcqAC29PQyhlHjBozspnw5X7A/tLgJSmqNWoijnOoeoR\n",
              "H++4k+kU/I3hgFgpn8K1bc9Pu2r42W0v1D7eKjqWVtop2fVBLeQ0xD+sMtiM+MEMDkOF1ePwJSwB\n",
              "lHyMR5Ha+5xVHZ0N6wXbM3shqf/T00P67igGdciwkRrfxHSuKEXNp5X5PSJx3azX3XVkzlpQlW0V\n",
              "SD/K8CUdKaaK71/EKsaams7abgB6WBjoPfT4thLNRRVnY5VeCMU502kbG/0dyxJdjFVf9yNlb6Vn\n",
              "lJz9dNroWqdNm4P/qmSiG/plQy6vaewvLSAYpJx86pKYr1nwibt6SUAaaQaCckUgWIok53kKF+pw\n",
              "gZjwIh/ZCXjXWcM1VuINf1CwujCTJkcKxY7bbGQfjS+wTOljMDvzwQJpLbqJwHgA53urNFzlEc+L\n",
              "6UeO/fhX0u9Ie20yzXVqIEGw+ABPi2/+b063ip8rLC9OJV17JhuhKQrdE0h29qNML4SqSyrn4sar\n",
              "02dNW6VJT1Yglq9FBmnIFWPv0tXhfAZp2u7maFUKQA6BMEXnAJx6b/dKhOtPsCouP6OuQLFVfTXg\n",
              "0oL/BF3LsIrcz/sQZ48N1LhzaSZXLuAy9FwETT7PifTupfpy1ie4dr6yJFRa0osBheB8q+ERfGOU\n",
              "+1lYFzRu83GRSUshMACpgAAAAFZBnoJFFSwU/wAAAwAEkvXylmKNxhvDP8CT/iEARKEOXoanrcD+\n",
              "Itd1J40HwkFUFNhWmbXDK/7P02P0xOF5Q2ohXPbCcgRmPIAjkVbJE2HEtZOY8YCkgQAAAEQBnqF0\n",
              "QS8AAAMACjbdoxSrxQAgcQDTXbEt7almTwu8uUKBp3GJTb4J2lJ3wXKXA9lZMAeLT+mU+wBP09ZK\n",
              "ivCK0NCbgAAAAGQBnqNqQS8AAAMADNdvXioAJ0oILfeS8B6oFCtRyYeYmgtQfsRqQJuFnZk3VPa6\n",
              "TBVHmLUuNUcR3UMc3LJa/wmbMc/XHnOFIne3tvvGHmsDe1XrLaWkCPkM4fTtLXdhE0qQgAH/AAAA\n",
              "gUGaqEmoQWyZTAgt//7WpVAAAAMDUcjmgA4waM4y0IdzaDKRSrHVl8OU+H9wpsR5HpRiNglT4xfc\n",
              "lFwc0vuAUnOvPV/a4MsbrBZ6F7zhr7gFbtqmZft9PyclgSk29vhAnQVsaaHscVQ1rEhwgFiqoAhU\n",
              "hSKlTZJAz/EmlHB76QwBQQAAACNBnsZFFSwU/wAAAwAEkrXB3AkB1veE7FZHmgEbbGV+34AQ8QAA\n",
              "ACABnuV0QS8AAAMADNrGRxgV9+TFfP9Limld8XkHvACHgQAAABcBnudqQS8AAAMAA57kxtssAt0K\n",
              "WAAY0AAAASVBmuxJqEFsmUwIK//+1qVQAAADAvGXx/gchu9ABGLoIQ9C59+28LOX6cpncB6NX3OM\n",
              "hHeOliMCsCBV2LtH/18ykSNeo1AUVLOFSgjX2lXuihXtVxGGkop03ZXYYfM+ZH1Hw5BuFMqyKcOX\n",
              "xZY8rKq44GrxXNxvk1JZVmHd0n/ESg+2aF5BwEN9Km5bobQXRp4xGe4AnbnQEb+wxLOq2f+NIWXL\n",
              "Nu7/X6z05xDZ762s/QuafIxytTyhsgOnbIv6hB7tUSWZHpFqqN2ogdGIjtb2oXswFP582dn6EUy/\n",
              "F+p5tbP6F4vPf9dWJ/Ao05/p94kDqBz4yhyCQWQW3bc951wY6Ba0ALiZg2AfogEt8kZ7STfqvcVV\n",
              "mD6AAkPi7+lbh3JDIYARcAAAAGJBnwpFFSwU/wAAAwAD9YjDgAfxLjKT89Hzf4TDpZ91P44GnuET\n",
              "Rz4/yz5ugsVurzpXJBKtw3LAmrWX7fHQTZzF6JvLjJzUVQLEnmnBz3XazOHBRzg64gj7ZUuald6X\n",
              "wgBDwQAAACUBnyl0QS8AAAMAC1LzHSotqsJh0Hp9VAEO6HBS8Oyrx9ckAIeAAAAAOwGfK2pBLwAA\n",
              "AwALVv7Tf5AC3b0ejE/YDAL8eceWUSsi1o+CJLxNMPt2VR+Xqtd+xiiA4nZtmKUYAIeAAAABN0Gb\n",
              "MEmoQWyZTAgp//7WjLAAAAXcDPepIQAkSwrTE+ec3r5wJ49g9xY7R2CsEAfYudQDu++fRYc4jdsl\n",
              "DH4TuShnfclyx4/iLn10iJkMeS/+NLC6d/2DnTs7vvMp+46ZN0DYqDsDz/dQkKbNUyZdc2Ygck8T\n",
              "0rdj4DK2M60WyV4R9+sC3vjJZdnh3KVOGiwdLqZOT+BY43iAcGmF8UtvMCfbO54BnRxgdGwpPyWs\n",
              "MSSjHW9tKOHGm7fvyCfxB6oBK9dTVPeWDDT+N/R0iE6z7aI96fT6dp8brKjiOUDl9E9zaHrOjuOB\n",
              "PfvaPEPX+MjAPskIDxdx9YwU1nm4Yl0APXL+S2lwoxESR2v9hXCFQ5tZpVh7E0OjUg23fz3a9ZjB\n",
              "VdG6J3XYkos1kTGU2i+vYvncNnHwBCLhAAAAXkGfTkUVLBT/AAADAAP1hl68Fy/ygIAWkAu5+yZW\n",
              "psZgHx7Vvb75xOXRA+htZ9JTeph3fxWg5Bhes0RclTFigr9N5ldW4dGv1DXYHstJLGUafiePKKmx\n",
              "d6hqOcswVA0AAAA5AZ9tdEEvAAADAAtWRzcOT7EhO6YAW6C+7tuj94Y5FrR6gyS0fLfJrvd8LM+w\n",
              "niduYl63qz60VAGfAAAAWgGfb2pBLwAAAwALDv7R5leV0uAC6QX3dt0fvDHItbRYSHq6qRR8yWJZ\n",
              "oDflmIRHjIEXl2mzlKi99qcpZXRAUudTLcRiBefYe0q+2Wsr7FDRctec+JHXcl6qTgAAAFJBm3FJ\n",
              "qEFsmUwIJf/+tSqAAAAWTw4YZOdhPIhwAXSC+7tuj94Y5Frab9GEgvubCoAu3/mfYzmoLqaDJQrM\n",
              "3TDjX7LQBcMrN1RltBW4+kek8FTAAAAFem1vb3YAAABsbXZoZAAAAAAAAAAAAAAAAAAAA+gAAGGo\n",
              "AAEAAAEAAAAAAAAAAAAAAAABAAAAAAAAAAAAAAAAAAAAAQAAAAAAAAAAAAAAAAAAQAAAAAAAAAAA\n",
              "AAAAAAAAAAAAAAAAAAAAAAAAAAAAAAIAAASkdHJhawAAAFx0a2hkAAAAAwAAAAAAAAAAAAAAAQAA\n",
              "AAAAAGGoAAAAAAAAAAAAAAAAAAAAAAABAAAAAAAAAAAAAAAAAAAAAQAAAAAAAAAAAAAAAAAAQAAA\n",
              "AAKAAAAB4AAAAAAAJGVkdHMAAAAcZWxzdAAAAAAAAAABAABhqAAAQAAAAQAAAAAEHG1kaWEAAAAg\n",
              "bWRoZAAAAAAAAAAAAAAAAAAAQAAABkAAVcQAAAAAAC1oZGxyAAAAAAAAAAB2aWRlAAAAAAAAAAAA\n",
              "AAAAVmlkZW9IYW5kbGVyAAAAA8dtaW5mAAAAFHZtaGQAAAABAAAAAAAAAAAAAAAkZGluZgAAABxk\n",
              "cmVmAAAAAAAAAAEAAAAMdXJsIAAAAAEAAAOHc3RibAAAALdzdHNkAAAAAAAAAAEAAACnYXZjMQAA\n",
              "AAAAAAABAAAAAAAAAAAAAAAAAAAAAAKAAeAASAAAAEgAAAAAAAAAAQAAAAAAAAAAAAAAAAAAAAAA\n",
              "AAAAAAAAAAAAAAAAAAAAABj//wAAADVhdmNDAWQAFv/hABhnZAAWrNlAoD2hAAADAAEAAAMABA8W\n",
              "LZYBAAZo6+PLIsD9+PgAAAAAHHV1aWRraEDyXyRPxbo5pRvPAyPzAAAAAAAAABhzdHRzAAAAAAAA\n",
              "AAEAAAAyAAAgAAAAABRzdHNzAAAAAAAAAAEAAAABAAABkGN0dHMAAAAAAAAAMAAAAAEAAEAAAAAA\n",
              "AQAAYAAAAAABAAAgAAAAAAIAAEAAAAAAAQAAYAAAAAABAAAgAAAAAAEAAKAAAAAAAQAAQAAAAAAB\n",
              "AAAAAAAAAAEAACAAAAAAAQAAYAAAAAABAAAgAAAAAAEAAEAAAAAAAQAAgAAAAAACAAAgAAAAAAEA\n",
              "AKAAAAAAAQAAQAAAAAABAAAAAAAAAAEAACAAAAAAAQAAoAAAAAABAABAAAAAAAEAAAAAAAAAAQAA\n",
              "IAAAAAABAACgAAAAAAEAAEAAAAAAAQAAAAAAAAABAAAgAAAAAAEAAKAAAAAAAQAAQAAAAAABAAAA\n",
              "AAAAAAEAACAAAAAAAQAAoAAAAAABAABAAAAAAAEAAAAAAAAAAQAAIAAAAAABAACgAAAAAAEAAEAA\n",
              "AAAAAQAAAAAAAAABAAAgAAAAAAEAAKAAAAAAAQAAQAAAAAABAAAAAAAAAAEAACAAAAAAAQAAoAAA\n",
              "AAABAABAAAAAAAEAAAAAAAAAAQAAIAAAAAABAABAAAAAABxzdHNjAAAAAAAAAAEAAAABAAAAMgAA\n",
              "AAEAAADcc3RzegAAAAAAAAAAAAAAMgAACmYAAAEbAAAAUwAAAiAAAAMuAAAEOgAAAEUAAAIGAAAA\n",
              "SwAAAC0AAAA0AAACVAAAAE8AAAcAAAACRwAAAIIAAABgAAACZAAAADoAAAArAAAAJgAAAVEAAAA2\n",
              "AAAAMAAAACEAAAFHAAAANwAAACEAAABDAAAAaAAAADIAAAApAAAAHwAAAqMAAABaAAAASAAAAGgA\n",
              "AACFAAAAJwAAACQAAAAbAAABKQAAAGYAAAApAAAAPwAAATsAAABiAAAAPQAAAF4AAABWAAAAFHN0\n",
              "Y28AAAAAAAAAAQAAADAAAABidWR0YQAAAFptZXRhAAAAAAAAACFoZGxyAAAAAAAAAABtZGlyYXBw\n",
              "bAAAAAAAAAAAAAAAAC1pbHN0AAAAJal0b28AAAAdZGF0YQAAAAEAAAAATGF2ZjU4Ljc2LjEwMA==\n",
              "\">\n",
              "  Your browser does not support the video tag.\n",
              "</video>"
            ]
          },
          "metadata": {},
          "execution_count": 37
        }
      ]
    }
  ]
}